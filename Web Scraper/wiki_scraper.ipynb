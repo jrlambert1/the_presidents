{
 "cells": [
  {
   "cell_type": "code",
   "execution_count": 1,
   "metadata": {
    "collapsed": true
   },
   "outputs": [],
   "source": [
    "from bs4 import BeautifulSoup\n",
    "import requests\n",
    "import wikipedia\n",
    "import pandas as pd\n",
    "from collections import Counter\n",
    "import matplotlib.pyplot as plt\n",
    "import numpy as np "
   ]
  },
  {
   "cell_type": "code",
   "execution_count": 2,
   "metadata": {
    "collapsed": true
   },
   "outputs": [],
   "source": [
    "president_list = ['George Washington', 'John Adams', 'Thomas Jefferson', 'James Madison', 'James Monroe','John Quincy Adams','Andrew Jackson','Martin Van Buren','William H. Harrison','John Tyler','James K. Polk','Zachary Taylor','Millard Fillmore','Franklin Pierce','James Buchanan','Abraham Lincoln','Andrew Johnson','Ulysses S. Grant','Rutherford B. Hayes','James A. Garfield','Chester A. Arthur','Benjamin Harrison','Grover Cleveland','William McKinley','Theodore Roosevelt','William H. Taft','Woodrow Wilson','Warren G. Harding','Calvin Coolidge','Herbert Hoover','Franklin D. Roosevelt','Harry S. Truman','Dwight D. Eisenhower','John F. Kennedy','Lyndon B. Johnson','Richard M. Nixon','Gerald R. Ford','Jimmy Carter','Ronald Reagan','George H. W. Bush','Bill Clinton','George W. Bush','Barack Hussein Obama', 'Donald Trump']"
   ]
  },
  {
   "cell_type": "code",
   "execution_count": 3,
   "metadata": {
    "collapsed": true
   },
   "outputs": [],
   "source": [
    "starting_year = [1789,1797,1801,1809,1817,1825,1829,1837,1841,1841,1841,1849,1850,1853,1857,1861,1865,1869,1877,1881,1881,1889,1893,1897,1901,1909,1913,1921,1923,1929,1933,1945,1953,1961,1963,1969,1974,1977,1981,1989,1993,2001,2009,2017]\n",
    "#Grover Cleveland (1885-89, 93-97), included under later date, 85 eliminated"
   ]
  },
  {
   "cell_type": "code",
   "execution_count": 4,
   "metadata": {
    "collapsed": true
   },
   "outputs": [],
   "source": [
    "def wiki_frame_maker(list_terms):\n",
    "    ref_list = []\n",
    "    content_list = []\n",
    "    for term in list_terms:\n",
    "        pres = wikipedia.page(term)\n",
    "        content = pres.content\n",
    "        references = pres.references\n",
    "        ref_list.append(references)\n",
    "        content_list.append(content)\n",
    "    return [content_list, ref_list]\n",
    "\n",
    "pres_frame = wiki_frame_maker(president_list)"
   ]
  },
  {
   "cell_type": "code",
   "execution_count": 6,
   "metadata": {
    "collapsed": true
   },
   "outputs": [],
   "source": [
    "pres_content = pres_frame[0]\n",
    "pres_refs = pres_frame[1]\n",
    "presidential_df = pd.DataFrame({'First Year of Presidency': starting_year, 'President Name': president_list\n",
    "                               , 'Wiki Content': pres_content, 'Wiki References': pres_refs})"
   ]
  },
  {
   "cell_type": "code",
   "execution_count": 7,
   "metadata": {},
   "outputs": [
    {
     "data": {
      "text/html": [
       "<div>\n",
       "<style>\n",
       "    .dataframe thead tr:only-child th {\n",
       "        text-align: right;\n",
       "    }\n",
       "\n",
       "    .dataframe thead th {\n",
       "        text-align: left;\n",
       "    }\n",
       "\n",
       "    .dataframe tbody tr th {\n",
       "        vertical-align: top;\n",
       "    }\n",
       "</style>\n",
       "<table border=\"1\" class=\"dataframe\">\n",
       "  <thead>\n",
       "    <tr style=\"text-align: right;\">\n",
       "      <th></th>\n",
       "      <th>First Year of Presidency</th>\n",
       "      <th>Num Wiki References</th>\n",
       "      <th>Words on Page</th>\n",
       "    </tr>\n",
       "  </thead>\n",
       "  <tbody>\n",
       "    <tr>\n",
       "      <th>count</th>\n",
       "      <td>44.000000</td>\n",
       "      <td>44.000000</td>\n",
       "      <td>44.000000</td>\n",
       "    </tr>\n",
       "    <tr>\n",
       "      <th>mean</th>\n",
       "      <td>1897.954545</td>\n",
       "      <td>191.295455</td>\n",
       "      <td>80270.204545</td>\n",
       "    </tr>\n",
       "    <tr>\n",
       "      <th>std</th>\n",
       "      <td>64.309193</td>\n",
       "      <td>196.959396</td>\n",
       "      <td>18861.638291</td>\n",
       "    </tr>\n",
       "    <tr>\n",
       "      <th>min</th>\n",
       "      <td>1789.000000</td>\n",
       "      <td>40.000000</td>\n",
       "      <td>43815.000000</td>\n",
       "    </tr>\n",
       "    <tr>\n",
       "      <th>25%</th>\n",
       "      <td>1847.000000</td>\n",
       "      <td>67.000000</td>\n",
       "      <td>67060.000000</td>\n",
       "    </tr>\n",
       "    <tr>\n",
       "      <th>50%</th>\n",
       "      <td>1891.000000</td>\n",
       "      <td>131.000000</td>\n",
       "      <td>86235.500000</td>\n",
       "    </tr>\n",
       "    <tr>\n",
       "      <th>75%</th>\n",
       "      <td>1955.000000</td>\n",
       "      <td>210.250000</td>\n",
       "      <td>93408.500000</td>\n",
       "    </tr>\n",
       "    <tr>\n",
       "      <th>max</th>\n",
       "      <td>2017.000000</td>\n",
       "      <td>882.000000</td>\n",
       "      <td>110149.000000</td>\n",
       "    </tr>\n",
       "  </tbody>\n",
       "</table>\n",
       "</div>"
      ],
      "text/plain": [
       "       First Year of Presidency  Num Wiki References  Words on Page\n",
       "count                 44.000000            44.000000      44.000000\n",
       "mean                1897.954545           191.295455   80270.204545\n",
       "std                   64.309193           196.959396   18861.638291\n",
       "min                 1789.000000            40.000000   43815.000000\n",
       "25%                 1847.000000            67.000000   67060.000000\n",
       "50%                 1891.000000           131.000000   86235.500000\n",
       "75%                 1955.000000           210.250000   93408.500000\n",
       "max                 2017.000000           882.000000  110149.000000"
      ]
     },
     "execution_count": 7,
     "metadata": {},
     "output_type": "execute_result"
    }
   ],
   "source": [
    "presidential_df['Num Wiki References'] = presidential_df['Wiki References'].apply(len)\n",
    "presidential_df['Words on Page'] = presidential_df['Wiki Content'].apply(len)"
   ]
  },
  {
   "cell_type": "code",
   "execution_count": 11,
   "metadata": {
    "collapsed": true
   },
   "outputs": [],
   "source": [
    "presidential_df.to_csv('PresidentialDataFrame.csv', encoding='utf-8')"
   ]
  }
 ],
 "metadata": {
  "kernelspec": {
   "display_name": "Python [default]",
   "language": "python",
   "name": "python2"
  },
  "language_info": {
   "codemirror_mode": {
    "name": "ipython",
    "version": 2
   },
   "file_extension": ".py",
   "mimetype": "text/x-python",
   "name": "python",
   "nbconvert_exporter": "python",
   "pygments_lexer": "ipython2",
   "version": "2.7.14"
  }
 },
 "nbformat": 4,
 "nbformat_minor": 2
}
