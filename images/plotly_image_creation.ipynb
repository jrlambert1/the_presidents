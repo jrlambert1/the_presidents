{
 "cells": [
  {
   "cell_type": "code",
   "execution_count": 1,
   "metadata": {},
   "outputs": [
    {
     "name": "stderr",
     "output_type": "stream",
     "text": [
      "/Users/slevin886/anaconda2/envs/python3/lib/python3.6/site-packages/statsmodels/compat/pandas.py:56: FutureWarning: The pandas.core.datetools module is deprecated and will be removed in a future version. Please use the pandas.tseries module instead.\n",
      "  from pandas.core import datetools\n"
     ]
    }
   ],
   "source": [
    "import pandas as pd\n",
    "import numpy as np \n",
    "import matplotlib.pyplot as plt\n",
    "import statsmodels.api as sm\n",
    "import plotly\n",
    "from plotly.graph_objs import Scatter, Layout\n",
    "import plotly.plotly as py\n",
    "import plotly.figure_factory as ff\n",
    "import plotly.graph_objs as go\n",
    "import colorlover as cl\n",
    "#plotly.offline.init_notebook_mode(connected=True)\n",
    "%matplotlib inline"
   ]
  },
  {
   "cell_type": "code",
   "execution_count": 2,
   "metadata": {
    "collapsed": true
   },
   "outputs": [],
   "source": [
    "df = pd.read_csv('../for_images.csv', index_col=0)"
   ]
  },
  {
   "cell_type": "code",
   "execution_count": 3,
   "metadata": {
    "collapsed": true
   },
   "outputs": [],
   "source": [
    "df = df.drop(['date_diffs', 'dates_in_wiki', 'Wiki Content', 'Inaugural',\n",
    "         'clean_wiki', 'clean_inaug'], axis=1)"
   ]
  },
  {
   "cell_type": "code",
   "execution_count": 4,
   "metadata": {
    "collapsed": true
   },
   "outputs": [],
   "source": [
    "dead_df = df.dropna(subset=['years_lived_after_pres'])"
   ]
  },
  {
   "cell_type": "code",
   "execution_count": 5,
   "metadata": {},
   "outputs": [
    {
     "data": {
      "text/plain": [
       "Index(['First Year of Presidency', 'President Name', 'Num Wiki References',\n",
       "       'Words on Page', 'rank', 'birth_year', 'death_year', 'years_lived',\n",
       "       'age_become_pres', 'years_lived_after_pres', 'profile_dates_mean',\n",
       "       'profile_dates_std', 'presidency_length', 'cos_similarity_wiki_inaug',\n",
       "       'more_than_10000_deaths', 'sim_rank'],\n",
       "      dtype='object')"
      ]
     },
     "execution_count": 5,
     "metadata": {},
     "output_type": "execute_result"
    }
   ],
   "source": [
    "dead_df.columns"
   ]
  },
  {
   "cell_type": "code",
   "execution_count": 6,
   "metadata": {
    "collapsed": true
   },
   "outputs": [],
   "source": [
    "dead_df = dead_df.sort_values(by='First Year of Presidency')"
   ]
  },
  {
   "cell_type": "code",
   "execution_count": 93,
   "metadata": {},
   "outputs": [
    {
     "data": {
      "text/html": [
       "<iframe id=\"igraph\" scrolling=\"no\" style=\"border:none;\" seamless=\"seamless\" src=\"https://plot.ly/~slevin886/132.embed\" height=\"525px\" width=\"100%\"></iframe>"
      ],
      "text/plain": [
       "<plotly.tools.PlotlyDisplay object>"
      ]
     },
     "execution_count": 93,
     "metadata": {},
     "output_type": "execute_result"
    }
   ],
   "source": [
    "#basic scatter, with horizontal orientation\n",
    "trace1 = go.Scatter(x=dead_df['First Year of Presidency'], \n",
    "                    y=dead_df['profile_dates_mean'],\n",
    "                   name = 'Mean Difference in Years',\n",
    "                    mode='markers',\n",
    "                    marker = dict(\n",
    "                    size = 10,\n",
    "                    color= 'rgba(20, 30, 200, .8)',\n",
    "                    line= dict(width = 2)),\n",
    "                    text = dead_df['President Name'],\n",
    "                   hoverinfo= 'text')\n",
    "\n",
    "trace2 = go.Bar(x=dead_df['First Year of Presidency'],\n",
    "                y= dead_df['years_lived_after_pres'], \n",
    "                name = 'Years lived after Presidency',\n",
    "                width=2.4,\n",
    "                marker = dict(color='rgba(200,30,20,.8)'),\n",
    "                opacity=0.32,\n",
    "                 yaxis='y2',\n",
    "               text = dead_df['years_lived_after_pres'],\n",
    "               hoverinfo='text')\n",
    "\n",
    "data = go.Data([trace1, trace2])\n",
    "\n",
    "layout = go.Layout(title = 'Average Date on Wikipedia Page',\n",
    "                   xaxis = dict(title = 'First year of Presidency'),\n",
    "                   yaxis= dict(title = 'Difference between average year and first year',\n",
    "                              titlefont=dict(color='rgba(20, 30, 200, .8)')),\n",
    "                   yaxis2= dict(title= 'Years lived after Presidency', overlaying='y', side='right', \n",
    "                                titlefont=dict(color='rgba(200,30,20,.8)'))\n",
    "                  )\n",
    "#hovermode will put the y and x axis values into \n",
    "\n",
    "fig = go.Figure(data=data, layout=layout)\n",
    "py.iplot(fig)"
   ]
  },
  {
   "cell_type": "code",
   "execution_count": 79,
   "metadata": {
    "scrolled": true
   },
   "outputs": [
    {
     "data": {
      "text/html": [
       "<iframe id=\"igraph\" scrolling=\"no\" style=\"border:none;\" seamless=\"seamless\" src=\"https://plot.ly/~slevin886/286.embed\" height=\"650px\" width=\"650px\"></iframe>"
      ],
      "text/plain": [
       "<plotly.tools.PlotlyDisplay object>"
      ]
     },
     "execution_count": 79,
     "metadata": {},
     "output_type": "execute_result"
    }
   ],
   "source": [
    "inaug = pd.read_csv('./inaug_sims.csv', index_col=0)\n",
    "names = inaug.index.tolist()\n",
    "names = [name.split()[-1] for name in names]\n",
    "colors = cl.scales['9']['div']['RdYlBu']\n",
    "\n",
    "\n",
    "trace = go.Heatmap(z=inaug.values.tolist(),\n",
    "                  colorscale=[[0, colors[8]],\n",
    "                             [0.10, colors[7]],\n",
    "                             [0.15, colors[6]],\n",
    "                             [0.20, colors[5]],\n",
    "                             [0.25, colors[4]],\n",
    "                             [0.30, colors[3]],\n",
    "                             [0.35, colors[2]],\n",
    "                             [0.40, colors[1]],\n",
    "                             [1, colors[0]]],\n",
    "                  colorbar = dict(tickmode='array',\n",
    "                                  tickvals=[0.15, 0.95],\n",
    "                                 ticktext = ['Less Similar', 'More Similar'],\n",
    "                                 ticks= 'outside'))\n",
    "\n",
    "layout = go.Layout(title = 'Similarities in Inaugural Addresses',\n",
    "    yaxis= dict(ticktext = names , tickvals = np.arange(39)),\n",
    "    xaxis=dict(ticktext = names , tickvals = np.arange(39)),\n",
    "                   height=650,\n",
    "                   width=650\n",
    "                )\n",
    "\n",
    "data = [trace]\n",
    "\n",
    "fig = go.Figure(data=data, layout=layout, )\n",
    "py.iplot(fig)"
   ]
  },
  {
   "cell_type": "code",
   "execution_count": 7,
   "metadata": {
    "collapsed": true
   },
   "outputs": [],
   "source": [
    "#reversing the order (so bigger is better)\n",
    "dead_df['rank'] = np.abs(dead_df['rank'] - 43).values\n",
    "dead_df = dead_df.sort_values(by='rank')"
   ]
  },
  {
   "cell_type": "code",
   "execution_count": 8,
   "metadata": {
    "collapsed": true
   },
   "outputs": [],
   "source": [
    "#getting color scale for graph\n",
    "colors = cl.scales['3']['div']['PiYG']"
   ]
  },
  {
   "cell_type": "code",
   "execution_count": 115,
   "metadata": {
    "collapsed": true
   },
   "outputs": [],
   "source": [
    "#getting ols parameters for line of best fit\n",
    "X = dead_df[['Words on Page']]\n",
    "X = sm.add_constant(X)\n",
    "ols = sm.OLS(X, dead_df['rank']).fit()\n",
    "y_values = [ols.params.iloc[0, 0] + (ols.params.iloc[0, 1] * i) for i in range(0, 43)]"
   ]
  },
  {
   "cell_type": "code",
   "execution_count": 128,
   "metadata": {},
   "outputs": [
    {
     "data": {
      "text/html": [
       "<iframe id=\"igraph\" scrolling=\"no\" style=\"border:none;\" seamless=\"seamless\" src=\"https://plot.ly/~slevin886/308.embed\" height=\"525px\" width=\"100%\"></iframe>"
      ],
      "text/plain": [
       "<plotly.tools.PlotlyDisplay object>"
      ]
     },
     "execution_count": 128,
     "metadata": {},
     "output_type": "execute_result"
    }
   ],
   "source": [
    "trace = go.Scatter(x=dead_df['rank'], y=dead_df['Words on Page'],\n",
    "                  mode='markers',\n",
    "                  marker=dict(size= 16,\n",
    "                              line= dict(width=2, color=(0,0,0,1)),\n",
    "                              color=dead_df['more_than_10000_deaths'],\n",
    "                             colorscale=[[0, colors[2]],\n",
    "                                        [0, colors[2]],\n",
    "                                        [1,colors[0]],\n",
    "                                        [1,colors[0]]],\n",
    "                             showscale=True,\n",
    "                           colorbar = dict(tickmode='array',\n",
    "                                      tickvals=[0.15, 0.95],\n",
    "                                     ticktext = ['Fewer than 10,000 war deaths', 'More than 10,000 war deaths'],\n",
    "                                 ticks= 'outside')),\n",
    "                  text = dead_df['President Name'],\n",
    "                  hoverinfo='text')\n",
    "\n",
    "trace1 = go.Scatter(x=np.arange(29), y=y_values[10:-4],\n",
    "                   name='OLS line',\n",
    "                   line=dict(color=('rgba(0, 0, 0, 0.7)'),\n",
    "                             width=4,\n",
    "                        dash='dash'))\n",
    "\n",
    "data = go.Data([trace, trace1])\n",
    "layout = go.Layout(title='Determining Page Length',\n",
    "                   xaxis=dict(title='CSPAN Rank'),\n",
    "                  yaxis=dict(title='Words on Wikipedia page'), \n",
    "                  plot_bgcolor='rgba(56, 240, 249, 0.3)',\n",
    "                  showlegend=False,\n",
    "                  annotations= [dict(x=2, y=32000, xref='x', yref='y', text='OLS line', showarrow=True,\n",
    "                                    arrowhead=1, ax=40, ay=0)])\n",
    "\n",
    "fig = go.Figure(data=data, layout=layout)\n",
    "py.iplot(fig)"
   ]
  },
  {
   "cell_type": "code",
   "execution_count": 21,
   "metadata": {
    "collapsed": true
   },
   "outputs": [],
   "source": [
    "#building KDE plot\n",
    "models = pd.read_csv('./models_images.csv', index_col=0)\n",
    "\n",
    "#DIDNT USE BELOW\n",
    "# to_array = []\n",
    "# for x in range(1, 13):\n",
    "#     num = models.copy()\n",
    "#     num = num.loc[num['length'] == x]\n",
    "#     rs = num.adj_r.tolist()\n",
    "#     to_array.append(np.array(rs))\n",
    "# z = pd.DataFrame(to_array).values"
   ]
  },
  {
   "cell_type": "code",
   "execution_count": 77,
   "metadata": {},
   "outputs": [
    {
     "data": {
      "text/html": [
       "<iframe id=\"igraph\" scrolling=\"no\" style=\"border:none;\" seamless=\"seamless\" src=\"https://plot.ly/~slevin886/284.embed\" height=\"525px\" width=\"100%\"></iframe>"
      ],
      "text/plain": [
       "<plotly.tools.PlotlyDisplay object>"
      ]
     },
     "execution_count": 77,
     "metadata": {},
     "output_type": "execute_result"
    }
   ],
   "source": [
    "trace0 = go.Histogram2dContour(x=models['length'], y=models['adj_r'],\n",
    "                 colorscale='Jet',showscale=True, hoverinfo=\"y\"\n",
    "                 )\n",
    "\n",
    "trace1 = go.Histogram2dContour(x=models['wo_length'], y=models['wo_adj_r'], name='no',\n",
    "                               colorscale='Jet', showscale=True, hoverinfo=\"y\"\n",
    "                               )\n",
    "\n",
    "data = [trace0, trace1]\n",
    "\n",
    "updatemenus = list([dict(active=-1, buttons=list([\n",
    "                                               dict(label='With Number of Wiki References',\n",
    "                                                   method='update',\n",
    "                                                   args=[{'visible': [True, False]}]),\n",
    "                                               dict(label='Without Number of Wiki References',\n",
    "                                                     method='update',\n",
    "                                                      args=[{'visible': [False, True]}]),\n",
    "                                               ]))])\n",
    "\n",
    "layout = dict(title='Typical Model Performance',\n",
    "                   xaxis=dict(title= 'Number of variables in regression'),\n",
    "                  yaxis=dict(title= 'Adjusted R-squared'),\n",
    "                  updatemenus=updatemenus)\n",
    "\n",
    "fig = dict(data=data, layout=layout)\n",
    "\n",
    "py.iplot(fig)"
   ]
  },
  {
   "cell_type": "code",
   "execution_count": 187,
   "metadata": {
    "collapsed": true
   },
   "outputs": [],
   "source": [
    "#prepping for next figure\n",
    "df = dead_df.copy()\n",
    "df = df.dropna(subset=['cos_similarity_wiki_inaug'])\n",
    "\n",
    "#making line for OLS\n",
    "X = df[['cos_similarity_wiki_inaug']]\n",
    "X = sm.add_constant(X)\n",
    "ols = sm.OLS(np.sqrt(df['Words on Page']), X).fit()\n",
    "y_values = [ols.params.iloc[0] + (ols.params.iloc[1] * i) for i in df['cos_similarity_wiki_inaug'].sort_values()]\n",
    "x_values = np.linspace(0, 0.38, 33)"
   ]
  },
  {
   "cell_type": "code",
   "execution_count": 195,
   "metadata": {
    "scrolled": true
   },
   "outputs": [
    {
     "data": {
      "text/html": [
       "<iframe id=\"igraph\" scrolling=\"no\" style=\"border:none;\" seamless=\"seamless\" src=\"https://plot.ly/~slevin886/372.embed\" height=\"525px\" width=\"100%\"></iframe>"
      ],
      "text/plain": [
       "<plotly.tools.PlotlyDisplay object>"
      ]
     },
     "execution_count": 195,
     "metadata": {},
     "output_type": "execute_result"
    }
   ],
   "source": [
    "trace0 = go.Scatter(x=df['cos_similarity_wiki_inaug'], y=np.sqrt(df['Words on Page']),\n",
    "                    mode='markers',\n",
    "                    marker=dict(size=14, color=df['presidency_length'], colorscale='Electric', \n",
    "                                 colorbar=dict(title='Length of Presidency (Years)'),\n",
    "                                 line=dict(color='rgba(0,0,0,0.5)', width=2),\n",
    "                                 reversescale=True, showscale=True),\n",
    "                    hoverinfo='text', text=df['President Name'])\n",
    "\n",
    "trace1 = go.Scatter(x=x_values, y=y_values, line=dict(color='rgba(0,0,0,0.5)', width=4, dash='dash'))\n",
    "\n",
    "data = go.Data([trace0, trace1])\n",
    "\n",
    "layout= go.Layout(xaxis=dict(title='Cosine Similarity Between Inaugural Addresses & Wikipedia Page',\n",
    "                            titlefont=dict(color='red')),\n",
    "                 yaxis=dict(title='(square root of) Wiki Page Length'),\n",
    "                 title='Setting simple goals',\n",
    "                 plot_bgcolor='rgba(18, 12, 18, 0.04)',\n",
    "                 annotations=[dict(x=0.0425, y=210, text='Less Similar', showarrow=False, \n",
    "                                   font=dict(size=16, color='red')), \n",
    "                             dict(x=0.35, y=210, text='More Similar', showarrow=False, \n",
    "                                   font=dict(size=16, color='red')),\n",
    "                             dict(x=0.34, y=267, text='OLS line', showarrow=True, xref='x', yref='y',\n",
    "                                 arrowhead=1, ax=0, ay=-30)],\n",
    "                 showlegend=False)\n",
    "\n",
    "fig = go.Figure(data=data, layout=layout)\n",
    "py.iplot(fig)"
   ]
  },
  {
   "cell_type": "code",
   "execution_count": 60,
   "metadata": {},
   "outputs": [],
   "source": [
    "#importing trends and switching index\n",
    "mean_trends = pd.read_csv('../with_mean_trend.csv', index_col=0)\n",
    "trends = pd.read_csv('./google_trends.csv', index_col=0)\n",
    "trends.index = pd.to_datetime(trends.index)"
   ]
  },
  {
   "cell_type": "code",
   "execution_count": 50,
   "metadata": {},
   "outputs": [
    {
     "data": {
      "text/html": [
       "<iframe id=\"igraph\" scrolling=\"no\" style=\"border:none;\" seamless=\"seamless\" src=\"https://plot.ly/~slevin886/428.embed\" height=\"525px\" width=\"100%\"></iframe>"
      ],
      "text/plain": [
       "<plotly.tools.PlotlyDisplay object>"
      ]
     },
     "execution_count": 50,
     "metadata": {},
     "output_type": "execute_result"
    }
   ],
   "source": [
    "from datetime import date\n",
    "traces = []\n",
    "\n",
    "for name in trends.columns:\n",
    "    x = go.Scatter(x=trends.index, y=trends[name], name=name)\n",
    "    traces.append(x)\n",
    "    \n",
    "data = go.Data(traces)\n",
    "\n",
    "layout = go.Layout(title='Google Trends for U.S. Presidents',\n",
    "                   paper_bgcolor= 'rgba(253,245,253,1)',\n",
    "                  yaxis=dict(title='Google Trends (relative to 100 peak interest)'),\n",
    "                  xaxis=dict(title='Date',\n",
    "                             rangeselector=dict(buttons=list([\n",
    "                                 dict(count=1,\n",
    "                                     label='Last year',\n",
    "                                     step='year',\n",
    "                                     stepmode='backward'),\n",
    "                                 dict(count=5,\n",
    "                                     label='Last five years',\n",
    "                                     step='year',\n",
    "                                     stepmode='backward'),\n",
    "                                 dict(step='all')\n",
    "                             ])),\n",
    "                            rangeslider=dict(),\n",
    "                            type='date'),\n",
    "                  annotations=[dict(x=date(2013, 1, 1), y=90, text=\"Reagan died in 2004 with the actual peak interest, I decided <br>to start his timeline in 2005, giving Washington top billing.\", showarrow=False)])\n",
    "\n",
    "fig = go.Figure(data=data, layout=layout)\n",
    "\n",
    "py.iplot(fig)"
   ]
  },
  {
   "cell_type": "code",
   "execution_count": null,
   "metadata": {
    "collapsed": true
   },
   "outputs": [],
   "source": [
    "#prepping for figure\n",
    "mean_trends = mean_trends.dropna().reset_index(drop=True)\n",
    "mean_trends['rank'] = np.abs(mean_trends['rank'] - mean_trends['rank'].max()) \n",
    "mean_trends = mean_trends.sort_values(by='mean_trend')"
   ]
  },
  {
   "cell_type": "code",
   "execution_count": 87,
   "metadata": {},
   "outputs": [
    {
     "ename": "PlotlyRequestError",
     "evalue": "Hi there, you've reached the threshold of 100 combined image exports and chart saves per day. If you need to raise your daily limit, consider upgrading to a Student or Personal Plan (see: https://plot.ly/products/cloud).",
     "output_type": "error",
     "traceback": [
      "\u001b[0;31m---------------------------------------------------------------------------\u001b[0m",
      "\u001b[0;31mPlotlyRequestError\u001b[0m                        Traceback (most recent call last)",
      "\u001b[0;32m<ipython-input-87-4a42f2e40098>\u001b[0m in \u001b[0;36m<module>\u001b[0;34m()\u001b[0m\n\u001b[1;32m     18\u001b[0m \u001b[0mfig\u001b[0m \u001b[0;34m=\u001b[0m \u001b[0mgo\u001b[0m\u001b[0;34m.\u001b[0m\u001b[0mFigure\u001b[0m\u001b[0;34m(\u001b[0m\u001b[0mdata\u001b[0m\u001b[0;34m=\u001b[0m\u001b[0mdata\u001b[0m\u001b[0;34m,\u001b[0m \u001b[0mlayout\u001b[0m\u001b[0;34m=\u001b[0m\u001b[0mlayout\u001b[0m\u001b[0;34m)\u001b[0m\u001b[0;34m\u001b[0m\u001b[0m\n\u001b[1;32m     19\u001b[0m \u001b[0;34m\u001b[0m\u001b[0m\n\u001b[0;32m---> 20\u001b[0;31m \u001b[0mpy\u001b[0m\u001b[0;34m.\u001b[0m\u001b[0miplot\u001b[0m\u001b[0;34m(\u001b[0m\u001b[0mfig\u001b[0m\u001b[0;34m)\u001b[0m\u001b[0;34m\u001b[0m\u001b[0m\n\u001b[0m",
      "\u001b[0;32m~/anaconda2/envs/python3/lib/python3.6/site-packages/plotly/plotly/plotly.py\u001b[0m in \u001b[0;36miplot\u001b[0;34m(figure_or_data, **plot_options)\u001b[0m\n\u001b[1;32m    138\u001b[0m     \u001b[0;32mif\u001b[0m \u001b[0;34m'auto_open'\u001b[0m \u001b[0;32mnot\u001b[0m \u001b[0;32min\u001b[0m \u001b[0mplot_options\u001b[0m\u001b[0;34m:\u001b[0m\u001b[0;34m\u001b[0m\u001b[0m\n\u001b[1;32m    139\u001b[0m         \u001b[0mplot_options\u001b[0m\u001b[0;34m[\u001b[0m\u001b[0;34m'auto_open'\u001b[0m\u001b[0;34m]\u001b[0m \u001b[0;34m=\u001b[0m \u001b[0;32mFalse\u001b[0m\u001b[0;34m\u001b[0m\u001b[0m\n\u001b[0;32m--> 140\u001b[0;31m     \u001b[0murl\u001b[0m \u001b[0;34m=\u001b[0m \u001b[0mplot\u001b[0m\u001b[0;34m(\u001b[0m\u001b[0mfigure_or_data\u001b[0m\u001b[0;34m,\u001b[0m \u001b[0;34m**\u001b[0m\u001b[0mplot_options\u001b[0m\u001b[0;34m)\u001b[0m\u001b[0;34m\u001b[0m\u001b[0m\n\u001b[0m\u001b[1;32m    141\u001b[0m \u001b[0;34m\u001b[0m\u001b[0m\n\u001b[1;32m    142\u001b[0m     \u001b[0;32mif\u001b[0m \u001b[0misinstance\u001b[0m\u001b[0;34m(\u001b[0m\u001b[0mfigure_or_data\u001b[0m\u001b[0;34m,\u001b[0m \u001b[0mdict\u001b[0m\u001b[0;34m)\u001b[0m\u001b[0;34m:\u001b[0m\u001b[0;34m\u001b[0m\u001b[0m\n",
      "\u001b[0;32m~/anaconda2/envs/python3/lib/python3.6/site-packages/plotly/plotly/plotly.py\u001b[0m in \u001b[0;36mplot\u001b[0;34m(figure_or_data, validate, **plot_options)\u001b[0m\n\u001b[1;32m    231\u001b[0m     \u001b[0mdata\u001b[0m \u001b[0;34m=\u001b[0m \u001b[0mfig\u001b[0m\u001b[0;34m.\u001b[0m\u001b[0mget\u001b[0m\u001b[0;34m(\u001b[0m\u001b[0;34m'data'\u001b[0m\u001b[0;34m,\u001b[0m \u001b[0;34m[\u001b[0m\u001b[0;34m]\u001b[0m\u001b[0;34m)\u001b[0m\u001b[0;34m\u001b[0m\u001b[0m\n\u001b[1;32m    232\u001b[0m     \u001b[0mplot_options\u001b[0m\u001b[0;34m[\u001b[0m\u001b[0;34m'layout'\u001b[0m\u001b[0;34m]\u001b[0m \u001b[0;34m=\u001b[0m \u001b[0mfig\u001b[0m\u001b[0;34m.\u001b[0m\u001b[0mget\u001b[0m\u001b[0;34m(\u001b[0m\u001b[0;34m'layout'\u001b[0m\u001b[0;34m,\u001b[0m \u001b[0;34m{\u001b[0m\u001b[0;34m}\u001b[0m\u001b[0;34m)\u001b[0m\u001b[0;34m\u001b[0m\u001b[0m\n\u001b[0;32m--> 233\u001b[0;31m     \u001b[0mresponse\u001b[0m \u001b[0;34m=\u001b[0m \u001b[0mv1\u001b[0m\u001b[0;34m.\u001b[0m\u001b[0mclientresp\u001b[0m\u001b[0;34m(\u001b[0m\u001b[0mdata\u001b[0m\u001b[0;34m,\u001b[0m \u001b[0;34m**\u001b[0m\u001b[0mplot_options\u001b[0m\u001b[0;34m)\u001b[0m\u001b[0;34m\u001b[0m\u001b[0m\n\u001b[0m\u001b[1;32m    234\u001b[0m \u001b[0;34m\u001b[0m\u001b[0m\n\u001b[1;32m    235\u001b[0m     \u001b[0;31m# Check if the url needs a secret key\u001b[0m\u001b[0;34m\u001b[0m\u001b[0;34m\u001b[0m\u001b[0m\n",
      "\u001b[0;32m~/anaconda2/envs/python3/lib/python3.6/site-packages/plotly/api/v1/clientresp.py\u001b[0m in \u001b[0;36mclientresp\u001b[0;34m(data, **kwargs)\u001b[0m\n\u001b[1;32m     33\u001b[0m \u001b[0;34m\u001b[0m\u001b[0m\n\u001b[1;32m     34\u001b[0m     \u001b[0murl\u001b[0m \u001b[0;34m=\u001b[0m \u001b[0;34m'{plotly_domain}/clientresp'\u001b[0m\u001b[0;34m.\u001b[0m\u001b[0mformat\u001b[0m\u001b[0;34m(\u001b[0m\u001b[0;34m**\u001b[0m\u001b[0mcfg\u001b[0m\u001b[0;34m)\u001b[0m\u001b[0;34m\u001b[0m\u001b[0m\n\u001b[0;32m---> 35\u001b[0;31m     \u001b[0mresponse\u001b[0m \u001b[0;34m=\u001b[0m \u001b[0mrequest\u001b[0m\u001b[0;34m(\u001b[0m\u001b[0;34m'post'\u001b[0m\u001b[0;34m,\u001b[0m \u001b[0murl\u001b[0m\u001b[0;34m,\u001b[0m \u001b[0mdata\u001b[0m\u001b[0;34m=\u001b[0m\u001b[0mpayload\u001b[0m\u001b[0;34m)\u001b[0m\u001b[0;34m\u001b[0m\u001b[0m\n\u001b[0m\u001b[1;32m     36\u001b[0m \u001b[0;34m\u001b[0m\u001b[0m\n\u001b[1;32m     37\u001b[0m     \u001b[0;31m# Old functionality, just keeping it around.\u001b[0m\u001b[0;34m\u001b[0m\u001b[0;34m\u001b[0m\u001b[0m\n",
      "\u001b[0;32m~/anaconda2/envs/python3/lib/python3.6/site-packages/plotly/api/v1/utils.py\u001b[0m in \u001b[0;36mrequest\u001b[0;34m(method, url, **kwargs)\u001b[0m\n\u001b[1;32m     84\u001b[0m         \u001b[0mcontent\u001b[0m \u001b[0;34m=\u001b[0m \u001b[0mresponse\u001b[0m\u001b[0;34m.\u001b[0m\u001b[0mcontent\u001b[0m \u001b[0;32mif\u001b[0m \u001b[0mresponse\u001b[0m \u001b[0;32melse\u001b[0m \u001b[0;34m'No content'\u001b[0m\u001b[0;34m\u001b[0m\u001b[0m\n\u001b[1;32m     85\u001b[0m         \u001b[0;32mraise\u001b[0m \u001b[0mexceptions\u001b[0m\u001b[0;34m.\u001b[0m\u001b[0mPlotlyRequestError\u001b[0m\u001b[0;34m(\u001b[0m\u001b[0mmessage\u001b[0m\u001b[0;34m,\u001b[0m \u001b[0mstatus_code\u001b[0m\u001b[0;34m,\u001b[0m \u001b[0mcontent\u001b[0m\u001b[0;34m)\u001b[0m\u001b[0;34m\u001b[0m\u001b[0m\n\u001b[0;32m---> 86\u001b[0;31m     \u001b[0mvalidate_response\u001b[0m\u001b[0;34m(\u001b[0m\u001b[0mresponse\u001b[0m\u001b[0;34m)\u001b[0m\u001b[0;34m\u001b[0m\u001b[0m\n\u001b[0m\u001b[1;32m     87\u001b[0m     \u001b[0;32mreturn\u001b[0m \u001b[0mresponse\u001b[0m\u001b[0;34m\u001b[0m\u001b[0m\n",
      "\u001b[0;32m~/anaconda2/envs/python3/lib/python3.6/site-packages/plotly/api/v1/utils.py\u001b[0m in \u001b[0;36mvalidate_response\u001b[0;34m(response)\u001b[0m\n\u001b[1;32m     36\u001b[0m         \u001b[0mmessage\u001b[0m \u001b[0;34m=\u001b[0m \u001b[0mcontent\u001b[0m \u001b[0;32mif\u001b[0m \u001b[0mcontent\u001b[0m \u001b[0;32melse\u001b[0m \u001b[0;34m'No Content'\u001b[0m\u001b[0;34m\u001b[0m\u001b[0m\n\u001b[1;32m     37\u001b[0m \u001b[0;34m\u001b[0m\u001b[0m\n\u001b[0;32m---> 38\u001b[0;31m     \u001b[0;32mraise\u001b[0m \u001b[0mexceptions\u001b[0m\u001b[0;34m.\u001b[0m\u001b[0mPlotlyRequestError\u001b[0m\u001b[0;34m(\u001b[0m\u001b[0mmessage\u001b[0m\u001b[0;34m,\u001b[0m \u001b[0mstatus_code\u001b[0m\u001b[0;34m,\u001b[0m \u001b[0mcontent\u001b[0m\u001b[0;34m)\u001b[0m\u001b[0;34m\u001b[0m\u001b[0m\n\u001b[0m\u001b[1;32m     39\u001b[0m \u001b[0;34m\u001b[0m\u001b[0m\n\u001b[1;32m     40\u001b[0m \u001b[0;34m\u001b[0m\u001b[0m\n",
      "\u001b[0;31mPlotlyRequestError\u001b[0m: Hi there, you've reached the threshold of 100 combined image exports and chart saves per day. If you need to raise your daily limit, consider upgrading to a Student or Personal Plan (see: https://plot.ly/products/cloud)."
     ]
    }
   ],
   "source": [
    "#ready to plot tomorrow\n",
    "trace0 = go.Bar(x=mean_trends['President Name'], y=mean_trends['mean_trend'], name='Avg. Google trend')\n",
    "trace1 = go.Bar(x=mean_trends['President Name'], y=mean_trends['rank'], name='CSPAN rank')\n",
    "trace2 = go.Bar(x=mean_trends['President Name'], y=mean_trends['Words on Page'], name='Words on Wiki page', yaxis='y2',\n",
    "               opacity=0.2)\n",
    "\n",
    "data = go.Data([trace0, trace1, trace2])\n",
    "\n",
    "layout= go.Layout(height=550,barmode='group',\n",
    "                 xaxis=dict(tickangle=-45, title='President'),\n",
    "                  yaxis=dict(title='Rank and Avg. Google Trend'),\n",
    "                  yaxis2=dict(title='Words on Wiki page', titlefont=dict(color='rgba(63,151,63,1)'),\n",
    "                              overlaying='y', side='right', range=[30000, 110000]),\n",
    "                 margin=dict(b=125),\n",
    "                 legend=dict(x=0, y=1),\n",
    "                 title='Rank & Trend vs. Wiki Length',\n",
    "                 paper_bgcolor='rgba(241, 74, 149, 0.045)')\n",
    "\n",
    "fig = go.Figure(data=data, layout=layout)\n",
    "\n",
    "py.iplot(fig)"
   ]
  }
 ],
 "metadata": {
  "kernelspec": {
   "display_name": "Python 3",
   "language": "python",
   "name": "python3"
  },
  "language_info": {
   "codemirror_mode": {
    "name": "ipython",
    "version": 3
   },
   "file_extension": ".py",
   "mimetype": "text/x-python",
   "name": "python",
   "nbconvert_exporter": "python",
   "pygments_lexer": "ipython3",
   "version": "3.6.4"
  }
 },
 "nbformat": 4,
 "nbformat_minor": 2
}
