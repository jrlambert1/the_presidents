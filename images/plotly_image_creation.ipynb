{
 "cells": [
  {
   "cell_type": "code",
   "execution_count": 183,
   "metadata": {
    "collapsed": true
   },
   "outputs": [],
   "source": [
    "import pandas as pd\n",
    "import numpy as np \n",
    "import matplotlib.pyplot as plt \n",
    "import plotly\n",
    "from plotly.graph_objs import Scatter, Layout\n",
    "import plotly.plotly as py\n",
    "import plotly.figure_factory as ff\n",
    "import plotly.graph_objs as go\n",
    "\n",
    "#plotly.offline.init_notebook_mode(connected=True)\n",
    "%matplotlib inline"
   ]
  },
  {
   "cell_type": "code",
   "execution_count": 184,
   "metadata": {
    "collapsed": true
   },
   "outputs": [],
   "source": [
    "df = pd.read_csv('../for_images.csv', index_col=0)"
   ]
  },
  {
   "cell_type": "code",
   "execution_count": 185,
   "metadata": {
    "collapsed": true
   },
   "outputs": [],
   "source": [
    "df = df.drop(['date_diffs', 'dates_in_wiki', 'Wiki Content', 'Inaugural',\n",
    "         'clean_wiki', 'clean_inaug'], axis=1)"
   ]
  },
  {
   "cell_type": "code",
   "execution_count": 186,
   "metadata": {
    "collapsed": true
   },
   "outputs": [],
   "source": [
    "dead_df = df.dropna(subset=['years_lived_after_pres'])"
   ]
  },
  {
   "cell_type": "code",
   "execution_count": 187,
   "metadata": {},
   "outputs": [
    {
     "data": {
      "text/plain": [
       "Index(['First Year of Presidency', 'President Name', 'Num Wiki References',\n",
       "       'Words on Page', 'rank', 'birth_year', 'death_year', 'years_lived',\n",
       "       'age_become_pres', 'years_lived_after_pres', 'profile_dates_mean',\n",
       "       'profile_dates_std', 'presidency_length', 'cos_similarity_wiki_inaug',\n",
       "       'more_than_10000_deaths', 'sim_rank'],\n",
       "      dtype='object')"
      ]
     },
     "execution_count": 187,
     "metadata": {},
     "output_type": "execute_result"
    }
   ],
   "source": [
    "dead_df.columns"
   ]
  },
  {
   "cell_type": "code",
   "execution_count": 188,
   "metadata": {
    "collapsed": true
   },
   "outputs": [],
   "source": [
    "dead_df = dead_df.sort_values(by='First Year of Presidency')"
   ]
  },
  {
   "cell_type": "code",
   "execution_count": 93,
   "metadata": {},
   "outputs": [
    {
     "data": {
      "text/html": [
       "<iframe id=\"igraph\" scrolling=\"no\" style=\"border:none;\" seamless=\"seamless\" src=\"https://plot.ly/~slevin886/132.embed\" height=\"525px\" width=\"100%\"></iframe>"
      ],
      "text/plain": [
       "<plotly.tools.PlotlyDisplay object>"
      ]
     },
     "execution_count": 93,
     "metadata": {},
     "output_type": "execute_result"
    }
   ],
   "source": [
    "#basic scatter, with horizontal orientation\n",
    "trace1 = go.Scatter(x=dead_df['First Year of Presidency'], \n",
    "                    y=dead_df['profile_dates_mean'],\n",
    "                   name = 'Mean Difference in Years',\n",
    "                    mode='markers',\n",
    "                    marker = dict(\n",
    "                    size = 10,\n",
    "                    color= 'rgba(20, 30, 200, .8)',\n",
    "                    line= dict(width = 2)),\n",
    "                    text = dead_df['President Name'],\n",
    "                   hoverinfo= 'text')\n",
    "\n",
    "trace2 = go.Bar(x=dead_df['First Year of Presidency'],\n",
    "                y= dead_df['years_lived_after_pres'], \n",
    "                name = 'Years lived after Presidency',\n",
    "                width=2.4,\n",
    "                marker = dict(color='rgba(200,30,20,.8)'),\n",
    "                opacity=0.32,\n",
    "                 yaxis='y2',\n",
    "               text = dead_df['years_lived_after_pres'],\n",
    "               hoverinfo='text')\n",
    "\n",
    "data = go.Data([trace1, trace2])\n",
    "\n",
    "layout = go.Layout(title = 'Average Date on Wikipedia Page',\n",
    "                   xaxis = dict(title = 'First year of Presidency'),\n",
    "                   yaxis= dict(title = 'Difference between average year and first year',\n",
    "                              titlefont=dict(color='rgba(20, 30, 200, .8)')),\n",
    "                   yaxis2= dict(title= 'Years lived after Presidency', overlaying='y', side='right', \n",
    "                                titlefont=dict(color='rgba(200,30,20,.8)'))\n",
    "                  )\n",
    "#hovermode will put the y and x axis values into \n",
    "\n",
    "fig = go.Figure(data=data, layout=layout)\n",
    "py.iplot(fig)"
   ]
  },
  {
   "cell_type": "code",
   "execution_count": 155,
   "metadata": {
    "scrolled": true
   },
   "outputs": [
    {
     "data": {
      "text/html": [
       "<iframe id=\"igraph\" scrolling=\"no\" style=\"border:none;\" seamless=\"seamless\" src=\"https://plot.ly/~slevin886/184.embed\" height=\"650px\" width=\"650px\"></iframe>"
      ],
      "text/plain": [
       "<plotly.tools.PlotlyDisplay object>"
      ]
     },
     "execution_count": 155,
     "metadata": {},
     "output_type": "execute_result"
    }
   ],
   "source": [
    "inaug = pd.read_csv('./inaug_sims.csv', index_col=0)\n",
    "names = inaug.index.tolist()\n",
    "names = [name.split()[-1] for name in names]\n",
    "colors = cl.scales['9']['div']['RdYlBu']\n",
    "\n",
    "\n",
    "trace = go.Heatmap(z=inaug.values.tolist(),\n",
    "                  colorscale=[[0, colors[8]],\n",
    "                             [0.10, colors[7]],\n",
    "                             [0.15, colors[6]],\n",
    "                             [0.20, colors[5]],\n",
    "                             [0.25, colors[4]],\n",
    "                             [0.30, colors[3]],\n",
    "                             [0.35, colors[2]],\n",
    "                             [0.40, colors[1]],\n",
    "                             [1, colors[0]]],\n",
    "                  colorbar = dict(tickmode='array',\n",
    "                                  tickvals=[0.15, 0.95],\n",
    "                                 ticktext = ['Less Similar', 'More Similar'],\n",
    "                                 ticks= 'outside'))\n",
    "\n",
    "layout = go.Layout(title = 'Similarities in Inaugural Addresses',\n",
    "    yaxis= dict(ticktext = names , tickvals = np.arange(39)),\n",
    "    xaxis=dict(ticktext = names , tickvals = np.arange(39)),\n",
    "                   height=650,\n",
    "                   width=650\n",
    "                )\n",
    "\n",
    "data = [trace]\n",
    "\n",
    "fig = go.Figure(data=data, layout=layout, )\n",
    "py.iplot(fig)"
   ]
  },
  {
   "cell_type": "code",
   "execution_count": 189,
   "metadata": {
    "collapsed": true
   },
   "outputs": [],
   "source": [
    "#reversing the order (so bigger is better)\n",
    "dead_df['rank'] = np.abs(dead_df['rank'] - 43).values\n",
    "dead_df = dead_df.sort_values(by='rank')"
   ]
  },
  {
   "cell_type": "code",
   "execution_count": 197,
   "metadata": {},
   "outputs": [],
   "source": [
    "colors = cl.scales['3']['div']['PiYG']"
   ]
  },
  {
   "cell_type": "code",
   "execution_count": 207,
   "metadata": {},
   "outputs": [
    {
     "data": {
      "application/vnd.plotly.v1+json": {
       "data": [
        {
         "hoverinfo": "text",
         "marker": {
          "color": [
           0,
           0,
           0,
           0,
           0,
           0,
           0,
           0,
           0,
           0,
           0,
           0,
           0,
           0,
           1,
           0,
           0,
           0,
           0,
           0,
           0,
           0,
           0,
           1,
           0,
           1,
           0,
           1,
           1,
           0,
           0,
           0,
           1,
           1,
           0,
           1,
           0,
           1
          ],
          "colorbar": {
           "tickmode": "array",
           "ticks": "outside",
           "ticktext": [
            "Fewer than 10,000 war deaths",
            "More than 10,000 war deaths"
           ],
           "tickvals": [
            0.15,
            0.95
           ]
          },
          "colorscale": [
           [
            0,
            "rgb(233,163,201)"
           ],
           [
            0,
            "rgb(233,163,201)"
           ],
           [
            1,
            "rgb(161,215,106)"
           ],
           [
            1,
            "rgb(161,215,106)"
           ]
          ],
          "line": {
           "color": [
            0,
            0,
            0,
            0
           ],
           "width": 2
          },
          "showscale": true,
          "size": 16
         },
         "mode": "markers",
         "text": [
          "James Buchanan",
          "Andrew Johnson",
          "Franklin Pierce",
          "Warren G. Harding",
          "John Tyler",
          "William H. Harrison",
          "Millard Fillmore",
          "Herbert Hoover",
          "Chester A. Arthur",
          "Martin Van Buren",
          "Rutherford B. Hayes",
          "Zachary Taylor",
          "Benjamin Harrison",
          "James A. Garfield",
          "Richard M. Nixon",
          "Calvin Coolidge",
          "Gerald R. Ford",
          "William H. Taft",
          "Grover Cleveland",
          "Ulysses S. Grant",
          "John Quincy Adams",
          "John Adams",
          "Andrew Jackson",
          "James Madison",
          "William McKinley",
          "James K. Polk",
          "James Monroe",
          "Woodrow Wilson",
          "Lyndon B. Johnson",
          "Ronald Reagan",
          "John F. Kennedy",
          "Thomas Jefferson",
          "Harry S. Truman",
          "Dwight D. Eisenhower",
          "Theodore Roosevelt",
          "Franklin D. Roosevelt",
          "George Washington",
          "Abraham Lincoln"
         ],
         "type": "scatter",
         "x": [
          0,
          1,
          2,
          3,
          4,
          5,
          6,
          7,
          8,
          9,
          11,
          12,
          13,
          14,
          15,
          16,
          18,
          19,
          20,
          21,
          22,
          24,
          25,
          26,
          27,
          29,
          30,
          32,
          33,
          34,
          35,
          36,
          37,
          38,
          39,
          40,
          41,
          42
         ],
         "y": [
          57081,
          88963,
          70602,
          93488,
          72754,
          47912,
          69946,
          73365,
          58411,
          57803,
          55296,
          43815,
          54239,
          72555,
          86922,
          47517,
          79175,
          87955,
          62521,
          106038,
          51734,
          85549,
          103675,
          68573,
          74635,
          93382,
          56399,
          100324,
          110149,
          98662,
          107499,
          88968,
          98538,
          104177,
          102292,
          93193,
          92595,
          103730
         ]
        }
       ],
       "layout": {
        "title": "Determining Page Length",
        "xaxis": {
         "title": "CSPAN Rank"
        },
        "yaxis": {
         "title": "Words on Wikipedia page"
        }
       }
      }
     },
     "metadata": {},
     "output_type": "display_data"
    }
   ],
   "source": [
    "trace = go.Scatter(x=dead_df['rank'], y=dead_df['Words on Page'],\n",
    "                  mode='markers',\n",
    "                  marker=dict(size= 16,\n",
    "                              line= dict(width=2, color=(0,0,0,0)),\n",
    "                              color=dead_df['more_than_10000_deaths'],\n",
    "                             colorscale=[[0, colors[0]],\n",
    "                                        [0, colors[0]],\n",
    "                                        [1,colors[2]],\n",
    "                                        [1,colors[2]]],\n",
    "                             showscale=True,\n",
    "                           colorbar = dict(tickmode='array',\n",
    "                                      tickvals=[0.15, 0.95],\n",
    "                                     ticktext = ['Fewer than 10,000 war deaths', 'More than 10,000 war deaths'],\n",
    "                                 ticks= 'outside')),\n",
    "                  text = dead_df['President Name'],\n",
    "                  hoverinfo='text')\n",
    "\n",
    "data = go.Data([trace])\n",
    "layout = go.Layout(title='Determining Page Length',\n",
    "                   xaxis=dict(title='CSPAN Rank'),\n",
    "                  yaxis=dict(title='Words on Wikipedia page'))\n",
    "fig = go.Figure(data=data, layout=layout)\n",
    "plotly.iplot(fig)"
   ]
  }
 ],
 "metadata": {
  "kernelspec": {
   "display_name": "Python 3",
   "language": "python",
   "name": "python3"
  },
  "language_info": {
   "codemirror_mode": {
    "name": "ipython",
    "version": 3
   },
   "file_extension": ".py",
   "mimetype": "text/x-python",
   "name": "python",
   "nbconvert_exporter": "python",
   "pygments_lexer": "ipython3",
   "version": "3.6.4"
  }
 },
 "nbformat": 4,
 "nbformat_minor": 2
}
