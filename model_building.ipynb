{
 "cells": [
  {
   "cell_type": "code",
   "execution_count": 175,
   "metadata": {},
   "outputs": [],
   "source": [
    "import pandas as pd \n",
    "import numpy as np\n",
    "import matplotlib.pyplot as plt\n",
    "from sklearn.preprocessing import StandardScaler\n",
    "import statsmodels.api as sm \n",
    "import seaborn as sns\n",
    "from itertools import combinations\n",
    "from tqdm import tqdm\n",
    "import seaborn as sns\n",
    "%matplotlib inline"
   ]
  },
  {
   "cell_type": "code",
   "execution_count": 176,
   "metadata": {
    "collapsed": true
   },
   "outputs": [],
   "source": [
    "df  = pd.read_csv('./for_images.csv', index_col=0)"
   ]
  },
  {
   "cell_type": "code",
   "execution_count": 177,
   "metadata": {
    "collapsed": true
   },
   "outputs": [],
   "source": [
    "#making 0 values null for death year\n",
    "df.loc[(df['death_year'] == 0), 'death_year'] = np.nan"
   ]
  },
  {
   "cell_type": "code",
   "execution_count": 178,
   "metadata": {},
   "outputs": [],
   "source": [
    "numeric = df.copy()\n",
    "#excluding non-numeric dtypes\n",
    "numeric = numeric.select_dtypes(exclude='object')\n",
    "#eliminating living presidents\n",
    "numeric = numeric.dropna(subset=['years_lived']).reset_index(drop=True)\n",
    "#covariance modeled better linearly with following tranformation\n",
    "numeric['sqrt_rank'] = np.sqrt(numeric['rank'])\n",
    "#\n",
    "numeric['pres_length_and_rank'] = numeric['presidency_length'] * numeric['rank']"
   ]
  },
  {
   "cell_type": "code",
   "execution_count": 179,
   "metadata": {},
   "outputs": [
    {
     "data": {
      "text/plain": [
       "years_lived_after_pres       0.051646\n",
       "years_lived                  0.074459\n",
       "profile_dates_std            0.216356\n",
       "age_become_pres              0.220858\n",
       "pres_length_and_rank         0.293424\n",
       "First Year of Presidency     0.353550\n",
       "death_year                   0.355492\n",
       "cos_similarity_wiki_inaug    0.361139\n",
       "sim_rank                     0.363360\n",
       "birth_year                   0.374820\n",
       "presidency_length            0.382782\n",
       "more_than_10000_deaths       0.448133\n",
       "Num Wiki References          0.514382\n",
       "profile_dates_mean           0.517599\n",
       "rank                         0.612962\n",
       "sqrt_rank                    0.627519\n",
       "Words on Page                1.000000\n",
       "Name: Words on Page, dtype: float64"
      ]
     },
     "execution_count": 179,
     "metadata": {},
     "output_type": "execute_result"
    }
   ],
   "source": [
    "np.abs(numeric.corr()['Words on Page']).sort_values()"
   ]
  },
  {
   "cell_type": "code",
   "execution_count": 180,
   "metadata": {},
   "outputs": [],
   "source": [
    "#dropping similarity ranking measures\n",
    "numeric = numeric.drop(['cos_similarity_wiki_inaug'], axis=1)\n",
    "#imputing the mean value for presidents that didnt deliver inaugural (probably not completely fair\n",
    "#as they never won office subsequently and probably arent rated highly)\n",
    "numeric['sim_rank'] = numeric.sim_rank.fillna(np.mean(numeric.sim_rank))"
   ]
  },
  {
   "cell_type": "code",
   "execution_count": 181,
   "metadata": {},
   "outputs": [],
   "source": [
    "#dropping perfectly correlated columns\n",
    "numeric = numeric.drop(['First Year of Presidency', 'death_year', 'years_lived'], axis=1)"
   ]
  },
  {
   "cell_type": "code",
   "execution_count": 182,
   "metadata": {
    "collapsed": true
   },
   "outputs": [],
   "source": [
    "y = numeric['Words on Page']\n",
    "X = numeric.drop('Words on Page', axis=1)\n",
    "ss = StandardScaler()\n",
    "X = ss.fit_transform(X)\n",
    "X = pd.DataFrame(X)\n",
    "X.columns = numeric.drop('Words on Page', axis=1).columns"
   ]
  },
  {
   "cell_type": "code",
   "execution_count": 183,
   "metadata": {},
   "outputs": [],
   "source": [
    "#ols.rsquared_adj"
   ]
  },
  {
   "cell_type": "code",
   "execution_count": 184,
   "metadata": {},
   "outputs": [
    {
     "data": {
      "text/plain": [
       "(38, 12)"
      ]
     },
     "execution_count": 184,
     "metadata": {},
     "output_type": "execute_result"
    }
   ],
   "source": [
    "X.shape"
   ]
  },
  {
   "cell_type": "code",
   "execution_count": 185,
   "metadata": {},
   "outputs": [
    {
     "name": "stderr",
     "output_type": "stream",
     "text": [
      "100%|██████████| 12/12 [00:12<00:00,  1.02s/it]\n"
     ]
    }
   ],
   "source": [
    "variables = []\n",
    "adj_r = []\n",
    "for i in tqdm(range(1, 13)):\n",
    "    combos = list(combinations(list(X.columns), i))\n",
    "    for co in combos:\n",
    "        variables.append(co)\n",
    "        df = X.copy()\n",
    "        df = df[list(co)]\n",
    "        df = sm.add_constant(df)\n",
    "        ols = sm.OLS(y, df).fit()\n",
    "        adj_r.append(ols.rsquared_adj)"
   ]
  },
  {
   "cell_type": "code",
   "execution_count": 186,
   "metadata": {},
   "outputs": [
    {
     "data": {
      "text/plain": [
       "4095"
      ]
     },
     "execution_count": 186,
     "metadata": {},
     "output_type": "execute_result"
    }
   ],
   "source": [
    "len(variables) #1023 combinations of features"
   ]
  },
  {
   "cell_type": "code",
   "execution_count": 187,
   "metadata": {},
   "outputs": [
    {
     "name": "stdout",
     "output_type": "stream",
     "text": [
      "0.5924911576082319\n",
      "('Num Wiki References', 'profile_dates_mean', 'profile_dates_std', 'more_than_10000_deaths', 'sim_rank', 'pres_length_and_rank')\n"
     ]
    }
   ],
   "source": [
    "print(adj_r[adj_r.index(max(adj_r))])\n",
    "print(variables[adj_r.index(max(adj_r))])"
   ]
  },
  {
   "cell_type": "code",
   "execution_count": 195,
   "metadata": {},
   "outputs": [
    {
     "data": {
      "text/plain": [
       "(2, 10)"
      ]
     },
     "execution_count": 195,
     "metadata": {},
     "output_type": "execute_result"
    },
    {
     "data": {
      "image/png": "[encoded data removed]",
      "text/plain": [
       "<matplotlib.figure.Figure at 0x1c1d06fda0>"
      ]
     },
     "metadata": {},
     "output_type": "display_data"
    }
   ],
   "source": [
    "fig, ax = plt.subplots(figsize=(8,5))\n",
    "plt.style.use('fivethirtyeight')\n",
    "sns.set_style('darkgrid')\n",
    "sns.kdeplot([len(x) for x in variables],adj_r, cmap='Reds', shade=True, shade_lowest=False)\n",
    "plt.title('OLS Joint Distribution (Adj-R^2, # of Features)')\n",
    "plt.scatter(6, 0.59, c='black')\n",
    "plt.xlabel('Number of Features')\n",
    "plt.ylabel('Adj R-squared')\n",
    "plt.annotate(s='MAX Adj-R: 6 features, 0.592',xy=(6, 0.595))\n",
    "plt.ylim((0.2,0.65))\n",
    "plt.xlim((2, 10))"
   ]
  },
  {
   "cell_type": "code",
   "execution_count": 198,
   "metadata": {},
   "outputs": [
    {
     "name": "stdout",
     "output_type": "stream",
     "text": [
      "                            OLS Regression Results                            \n",
      "==============================================================================\n",
      "Dep. Variable:          Words on Page   R-squared:                       0.659\n",
      "Model:                            OLS   Adj. R-squared:                  0.592\n",
      "Method:                 Least Squares   F-statistic:                     9.966\n",
      "Date:                Wed, 02 May 2018   Prob (F-statistic):           3.89e-06\n",
      "Time:                        11:50:42   Log-Likelihood:                -409.53\n",
      "No. Observations:                  38   AIC:                             833.1\n",
      "Df Residuals:                      31   BIC:                             844.5\n",
      "Df Model:                           6                                         \n",
      "Covariance Type:            nonrobust                                         \n",
      "==========================================================================================\n",
      "                             coef    std err          t      P>|t|      [0.025      0.975]\n",
      "------------------------------------------------------------------------------------------\n",
      "const                   7.949e+04   2081.916     38.179      0.000    7.52e+04    8.37e+04\n",
      "Num Wiki References     9524.5121   2806.207      3.394      0.002    3801.216    1.52e+04\n",
      "profile_dates_mean      5206.5498   2646.606      1.967      0.058    -191.238    1.06e+04\n",
      "profile_dates_std      -6635.4204   2534.093     -2.618      0.014   -1.18e+04   -1467.105\n",
      "more_than_10000_deaths  5022.6918   2245.925      2.236      0.033     442.097    9603.287\n",
      "sim_rank                2307.1527   2236.291      1.032      0.310   -2253.792    6868.097\n",
      "pres_length_and_rank   -3290.4316   2476.731     -1.329      0.194   -8341.758    1760.895\n",
      "==============================================================================\n",
      "Omnibus:                        1.333   Durbin-Watson:                   2.213\n",
      "Prob(Omnibus):                  0.514   Jarque-Bera (JB):                0.862\n",
      "Skew:                          -0.369   Prob(JB):                        0.650\n",
      "Kurtosis:                       3.022   Cond. No.                         2.44\n",
      "==============================================================================\n",
      "\n",
      "Warnings:\n",
      "[1] Standard Errors assume that the covariance matrix of the errors is correctly specified.\n"
     ]
    }
   ],
   "source": [
    "df = X.copy()\n",
    "df = df[['Num Wiki References', 'profile_dates_mean', 'profile_dates_std', \n",
    "         'more_than_10000_deaths', 'sim_rank', 'pres_length_and_rank']]\n",
    "df = sm.add_constant(df)\n",
    "ols = sm.OLS(y, df).fit()\n",
    "print(ols.summary())"
   ]
  },
  {
   "cell_type": "code",
   "execution_count": 201,
   "metadata": {},
   "outputs": [
    {
     "name": "stderr",
     "output_type": "stream",
     "text": [
      "100%|██████████| 11/11 [00:06<00:00,  1.65it/s]\n"
     ]
    }
   ],
   "source": [
    "#same thing without wiki references\n",
    "X = X.drop(['Num Wiki References'], axis=1)\n",
    "variables = []\n",
    "adj_r = []\n",
    "for i in tqdm(range(1, 12)):\n",
    "    combos = list(combinations(list(X.columns), i))\n",
    "    for co in combos:\n",
    "        variables.append(co)\n",
    "        df = X.copy()\n",
    "        df = df[list(co)]\n",
    "        df = sm.add_constant(df)\n",
    "        ols = sm.OLS(y, df).fit()\n",
    "        adj_r.append(ols.rsquared_adj)\n",
    "\n",
    "print(adj_r[adj_r.index(max(adj_r))])\n",
    "print(variables[adj_r.index(max(adj_r))])"
   ]
  },
  {
   "cell_type": "code",
   "execution_count": 204,
   "metadata": {},
   "outputs": [
    {
     "name": "stdout",
     "output_type": "stream",
     "text": [
      "R-squared w/o wiki references 0.5657608214467682\n"
     ]
    }
   ],
   "source": [
    "df = X.copy()\n",
    "df = df[['profile_dates_mean', 'profile_dates_std', 'sqrt_rank', 'pres_length_and_rank']]\n",
    "df = sm.add_constant(df)\n",
    "ols = sm.OLS(y, df).fit()\n",
    "print('R-squared w/o wiki references', ols.rsquared)"
   ]
  }
 ],
 "metadata": {
  "kernelspec": {
   "display_name": "Python 3",
   "language": "python",
   "name": "python3"
  },
  "language_info": {
   "codemirror_mode": {
    "name": "ipython",
    "version": 3
   },
   "file_extension": ".py",
   "mimetype": "text/x-python",
   "name": "python",
   "nbconvert_exporter": "python",
   "pygments_lexer": "ipython3",
   "version": "3.6.4"
  }
 },
 "nbformat": 4,
 "nbformat_minor": 2
}
