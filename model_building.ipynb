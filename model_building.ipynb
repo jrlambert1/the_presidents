{
 "cells": [
  {
   "cell_type": "code",
   "execution_count": 44,
   "metadata": {},
   "outputs": [],
   "source": [
    "import pandas as pd \n",
    "import numpy as np\n",
    "import matplotlib.pyplot as plt\n",
    "from sklearn.preprocessing import StandardScaler\n",
    "import statsmodels.api as sm \n",
    "import seaborn as sns\n",
    "from itertools import combinations\n",
    "from tqdm import tqdm\n",
    "import seaborn as sns\n",
    "%matplotlib inline"
   ]
  },
  {
   "cell_type": "code",
   "execution_count": 45,
   "metadata": {
    "collapsed": true
   },
   "outputs": [],
   "source": [
    "df  = pd.read_csv('./with_mean_trend.csv', index_col=0)"
   ]
  },
  {
   "cell_type": "code",
   "execution_count": 46,
   "metadata": {
    "collapsed": true
   },
   "outputs": [],
   "source": [
    "#making 0 values null for death year\n",
    "df.loc[(df['death_year'] == 0), 'death_year'] = np.nan"
   ]
  },
  {
   "cell_type": "code",
   "execution_count": 47,
   "metadata": {},
   "outputs": [],
   "source": [
    "numeric = df.copy()\n",
    "#excluding non-numeric dtypes\n",
    "numeric = numeric.select_dtypes(exclude='object')\n",
    "#eliminating living presidents\n",
    "numeric = numeric.dropna(subset=['years_lived']).reset_index(drop=True)\n",
    "#covariance modeled better linearly with following tranformation\n",
    "numeric['sqrt_rank'] = np.sqrt(numeric['rank'])\n",
    "#numeric['pres_length_and_rank'] = numeric['presidency_length'] * numeric['rank']\n",
    "numeric['sqrt_trend'] = np.sqrt(numeric['mean_trend'])"
   ]
  },
  {
   "cell_type": "code",
   "execution_count": 48,
   "metadata": {},
   "outputs": [
    {
     "data": {
      "text/plain": [
       "years_lived_after_pres       0.051646\n",
       "years_lived                  0.074459\n",
       "profile_dates_std            0.216356\n",
       "age_become_pres              0.220858\n",
       "First Year of Presidency     0.353550\n",
       "death_year                   0.355492\n",
       "cos_similarity_wiki_inaug    0.361139\n",
       "sim_rank                     0.363360\n",
       "birth_year                   0.374820\n",
       "presidency_length            0.382782\n",
       "mean_trend                   0.414958\n",
       "more_than_10000_deaths       0.448133\n",
       "Num Wiki References          0.514382\n",
       "profile_dates_mean           0.517599\n",
       "sqrt_trend                   0.526395\n",
       "rank                         0.612962\n",
       "sqrt_rank                    0.627519\n",
       "Words on Page                1.000000\n",
       "Name: Words on Page, dtype: float64"
      ]
     },
     "execution_count": 48,
     "metadata": {},
     "output_type": "execute_result"
    }
   ],
   "source": [
    "np.abs(numeric.corr()['Words on Page']).sort_values()"
   ]
  },
  {
   "cell_type": "code",
   "execution_count": 49,
   "metadata": {
    "collapsed": true
   },
   "outputs": [],
   "source": [
    "#dropping similarity ranking measures and non-transformed measures \n",
    "numeric = numeric.drop(['cos_similarity_wiki_inaug', 'rank', 'mean_trend'], axis=1)\n",
    "#imputing the mean value for presidents that didnt deliver inaugural (probably not completely fair\n",
    "#as they never won office subsequently and probably arent rated highly)\n",
    "numeric['sim_rank'] = numeric.sim_rank.fillna(np.mean(numeric.sim_rank))"
   ]
  },
  {
   "cell_type": "code",
   "execution_count": 50,
   "metadata": {
    "collapsed": true
   },
   "outputs": [],
   "source": [
    "#dropping perfectly correlated columns\n",
    "numeric = numeric.drop(['First Year of Presidency', 'death_year', 'years_lived'], axis=1)"
   ]
  },
  {
   "cell_type": "code",
   "execution_count": 51,
   "metadata": {},
   "outputs": [],
   "source": [
    "y = numeric['Words on Page']\n",
    "X = numeric.drop('Words on Page', axis=1)\n",
    "ss = StandardScaler()\n",
    "X = ss.fit_transform(X)\n",
    "X = pd.DataFrame(X)\n",
    "X.columns = numeric.drop('Words on Page', axis=1).columns"
   ]
  },
  {
   "cell_type": "code",
   "execution_count": 10,
   "metadata": {
    "collapsed": true
   },
   "outputs": [],
   "source": [
    "#ols.rsquared_adj"
   ]
  },
  {
   "cell_type": "code",
   "execution_count": 52,
   "metadata": {},
   "outputs": [
    {
     "name": "stderr",
     "output_type": "stream",
     "text": [
      "100%|██████████| 11/11 [00:05<00:00,  1.97it/s]\n"
     ]
    }
   ],
   "source": [
    "variables = []\n",
    "adj_r = []\n",
    "for i in tqdm(range(1, 12)):\n",
    "    combos = list(combinations(list(X.columns), i))\n",
    "    for co in combos:\n",
    "        variables.append(co)\n",
    "        df = X.copy()\n",
    "        df = df[list(co)]\n",
    "        df = sm.add_constant(df)\n",
    "        ols = sm.OLS(y, df).fit()\n",
    "        adj_r.append(ols.rsquared_adj)"
   ]
  },
  {
   "cell_type": "code",
   "execution_count": 53,
   "metadata": {},
   "outputs": [
    {
     "data": {
      "text/plain": [
       "2047"
      ]
     },
     "execution_count": 53,
     "metadata": {},
     "output_type": "execute_result"
    }
   ],
   "source": [
    "len(variables) #2047 combinations of features"
   ]
  },
  {
   "cell_type": "code",
   "execution_count": 54,
   "metadata": {},
   "outputs": [
    {
     "name": "stdout",
     "output_type": "stream",
     "text": [
      "0.6478103174336207\n",
      "('Num Wiki References', 'profile_dates_mean', 'profile_dates_std', 'presidency_length', 'more_than_10000_deaths', 'sqrt_trend')\n"
     ]
    }
   ],
   "source": [
    "print(adj_r[adj_r.index(max(adj_r))])\n",
    "print(variables[adj_r.index(max(adj_r))])\n",
    "#adding trends increased adj_r by 0.08"
   ]
  },
  {
   "cell_type": "code",
   "execution_count": 55,
   "metadata": {
    "collapsed": true
   },
   "outputs": [],
   "source": [
    "#to save to csv for plotly visuals later \n",
    "new_df = pd.DataFrame()\n",
    "new_df['adj_r'] = adj_r\n",
    "new_df['variables'] = variables\n",
    "new_df['length'] = [len(i) for i in variables]"
   ]
  },
  {
   "cell_type": "code",
   "execution_count": 57,
   "metadata": {},
   "outputs": [
    {
     "data": {
      "text/plain": [
       "(2, 13)"
      ]
     },
     "execution_count": 57,
     "metadata": {},
     "output_type": "execute_result"
    },
    {
     "data": {
      "image/png": "[encoded data removed]",
      "text/plain": [
       "<matplotlib.figure.Figure at 0x10ff72b70>"
      ]
     },
     "metadata": {},
     "output_type": "display_data"
    }
   ],
   "source": [
    "fig, ax = plt.subplots(figsize=(8,5))\n",
    "plt.style.use('fivethirtyeight')\n",
    "sns.set_style('darkgrid')\n",
    "sns.kdeplot([len(x) for x in variables],adj_r, cmap='Reds', shade=True, shade_lowest=False)\n",
    "plt.title('OLS Joint Distribution (Adj-R^2, # of Features)')\n",
    "plt.scatter(6, 0.64, c='black')\n",
    "plt.xlabel('Number of Features')\n",
    "plt.ylabel('Adj R-squared')\n",
    "plt.annotate(s='MAX Adj-R: 6 features, 0.648',xy=(6, 0.648))\n",
    "plt.ylim((0.2,0.69))\n",
    "plt.xlim((2, 13))"
   ]
  },
  {
   "cell_type": "code",
   "execution_count": 60,
   "metadata": {},
   "outputs": [
    {
     "name": "stdout",
     "output_type": "stream",
     "text": [
      "                            OLS Regression Results                            \n",
      "==============================================================================\n",
      "Dep. Variable:          Words on Page   R-squared:                       0.705\n",
      "Model:                            OLS   Adj. R-squared:                  0.648\n",
      "Method:                 Least Squares   F-statistic:                     12.34\n",
      "Date:                Fri, 11 May 2018   Prob (F-statistic):           4.59e-07\n",
      "Time:                        10:49:35   Log-Likelihood:                -406.75\n",
      "No. Observations:                  38   AIC:                             827.5\n",
      "Df Residuals:                      31   BIC:                             839.0\n",
      "Df Model:                           6                                         \n",
      "Covariance Type:            nonrobust                                         \n",
      "==========================================================================================\n",
      "                             coef    std err          t      P>|t|      [0.025      0.975]\n",
      "------------------------------------------------------------------------------------------\n",
      "const                   7.949e+04   1935.454     41.068      0.000    7.55e+04    8.34e+04\n",
      "Num Wiki References     6188.7216   3278.241      1.888      0.068    -497.294    1.29e+04\n",
      "profile_dates_mean      7323.5530   2555.328      2.866      0.007    2111.927    1.25e+04\n",
      "profile_dates_std      -6531.8215   2347.557     -2.782      0.009   -1.13e+04   -1743.947\n",
      "presidency_length      -3371.2782   2466.673     -1.367      0.182   -8402.091    1659.534\n",
      "more_than_10000_deaths  5860.0239   2184.228      2.683      0.012    1405.262    1.03e+04\n",
      "sqrt_trend              8095.3082   2821.620      2.869      0.007    2340.576    1.39e+04\n",
      "==============================================================================\n",
      "Omnibus:                        2.121   Durbin-Watson:                   2.494\n",
      "Prob(Omnibus):                  0.346   Jarque-Bera (JB):                1.373\n",
      "Skew:                          -0.459   Prob(JB):                        0.503\n",
      "Kurtosis:                       3.160   Cond. No.                         3.43\n",
      "==============================================================================\n",
      "\n",
      "Warnings:\n",
      "[1] Standard Errors assume that the covariance matrix of the errors is correctly specified.\n"
     ]
    }
   ],
   "source": [
    "df = X.copy()\n",
    "df = df[['Num Wiki References', 'profile_dates_mean', 'profile_dates_std', \n",
    "         'presidency_length', 'more_than_10000_deaths','sqrt_trend']]\n",
    "df = sm.add_constant(df)\n",
    "ols = sm.OLS(y, df).fit()\n",
    "print(ols.summary())"
   ]
  },
  {
   "cell_type": "code",
   "execution_count": 61,
   "metadata": {},
   "outputs": [
    {
     "name": "stderr",
     "output_type": "stream",
     "text": [
      "100%|██████████| 10/10 [00:02<00:00,  3.50it/s]"
     ]
    },
    {
     "name": "stdout",
     "output_type": "stream",
     "text": [
      "0.626071560028951\n",
      "('birth_year', 'profile_dates_mean', 'profile_dates_std', 'more_than_10000_deaths', 'sqrt_trend')\n"
     ]
    },
    {
     "name": "stderr",
     "output_type": "stream",
     "text": [
      "\n"
     ]
    }
   ],
   "source": [
    "#same thing without wiki references\n",
    "X = X.drop(['Num Wiki References'], axis=1)\n",
    "variables = []\n",
    "adj_r = []\n",
    "for i in tqdm(range(1, 11)):\n",
    "    combos = list(combinations(list(X.columns), i))\n",
    "    for co in combos:\n",
    "        variables.append(co)\n",
    "        df = X.copy()\n",
    "        df = df[list(co)]\n",
    "        df = sm.add_constant(df)\n",
    "        ols = sm.OLS(y, df).fit()\n",
    "        adj_r.append(ols.rsquared_adj)\n",
    "\n",
    "print(adj_r[adj_r.index(max(adj_r))])\n",
    "print(variables[adj_r.index(max(adj_r))])"
   ]
  },
  {
   "cell_type": "code",
   "execution_count": 67,
   "metadata": {},
   "outputs": [
    {
     "name": "stdout",
     "output_type": "stream",
     "text": [
      "R-squared w/o wiki references 0.676602430295309\n"
     ]
    }
   ],
   "source": [
    "df = X.copy()\n",
    "df = df[['birth_year', 'profile_dates_mean', 'profile_dates_std', \n",
    "         'more_than_10000_deaths', 'sqrt_trend']]\n",
    "df = sm.add_constant(df)\n",
    "ols = sm.OLS(y, df).fit()\n",
    "print('R-squared w/o wiki references', ols.rsquared)"
   ]
  },
  {
   "cell_type": "code",
   "execution_count": 68,
   "metadata": {},
   "outputs": [
    {
     "name": "stdout",
     "output_type": "stream",
     "text": [
      "                            OLS Regression Results                            \n",
      "==============================================================================\n",
      "Dep. Variable:          Words on Page   R-squared:                       0.677\n",
      "Model:                            OLS   Adj. R-squared:                  0.626\n",
      "Method:                 Least Squares   F-statistic:                     13.39\n",
      "Date:                Fri, 11 May 2018   Prob (F-statistic):           4.48e-07\n",
      "Time:                        10:53:21   Log-Likelihood:                -408.49\n",
      "No. Observations:                  38   AIC:                             829.0\n",
      "Df Residuals:                      32   BIC:                             838.8\n",
      "Df Model:                           5                                         \n",
      "Covariance Type:            nonrobust                                         \n",
      "==========================================================================================\n",
      "                             coef    std err          t      P>|t|      [0.025      0.975]\n",
      "------------------------------------------------------------------------------------------\n",
      "const                   7.949e+04   1994.292     39.856      0.000    7.54e+04    8.35e+04\n",
      "birth_year              3553.0763   2603.336      1.365      0.182   -1749.746    8855.899\n",
      "profile_dates_mean      6623.5508   2560.372      2.587      0.014    1408.245    1.18e+04\n",
      "profile_dates_std      -4261.8276   2066.449     -2.062      0.047   -8471.046     -52.609\n",
      "more_than_10000_deaths  3915.2640   2151.417      1.820      0.078    -467.029    8297.557\n",
      "sqrt_trend              1.137e+04   2105.150      5.402      0.000    7082.923    1.57e+04\n",
      "==============================================================================\n",
      "Omnibus:                        1.877   Durbin-Watson:                   2.353\n",
      "Prob(Omnibus):                  0.391   Jarque-Bera (JB):                1.071\n",
      "Skew:                          -0.391   Prob(JB):                        0.585\n",
      "Kurtosis:                       3.255   Cond. No.                         2.26\n",
      "==============================================================================\n",
      "\n",
      "Warnings:\n",
      "[1] Standard Errors assume that the covariance matrix of the errors is correctly specified.\n"
     ]
    }
   ],
   "source": [
    "print(ols.summary())"
   ]
  },
  {
   "cell_type": "code",
   "execution_count": 69,
   "metadata": {
    "collapsed": true
   },
   "outputs": [
    {
     "ename": "ValueError",
     "evalue": "Length of values does not match length of index",
     "output_type": "error",
     "traceback": [
      "\u001b[0;31m---------------------------------------------------------------------------\u001b[0m",
      "\u001b[0;31mValueError\u001b[0m                                Traceback (most recent call last)",
      "\u001b[0;32m<ipython-input-69-6726fdcbc7c6>\u001b[0m in \u001b[0;36m<module>\u001b[0;34m()\u001b[0m\n\u001b[1;32m      1\u001b[0m \u001b[0;31m#saving to csv for plotly images\u001b[0m\u001b[0;34m\u001b[0m\u001b[0;34m\u001b[0m\u001b[0m\n\u001b[0;32m----> 2\u001b[0;31m \u001b[0mnew_df\u001b[0m\u001b[0;34m[\u001b[0m\u001b[0;34m'wo_adj_r'\u001b[0m\u001b[0;34m]\u001b[0m \u001b[0;34m=\u001b[0m \u001b[0madj_r\u001b[0m \u001b[0;34m+\u001b[0m \u001b[0;34m[\u001b[0m\u001b[0mnp\u001b[0m\u001b[0;34m.\u001b[0m\u001b[0mnan\u001b[0m \u001b[0;32mfor\u001b[0m \u001b[0mi\u001b[0m \u001b[0;32min\u001b[0m \u001b[0mrange\u001b[0m\u001b[0;34m(\u001b[0m\u001b[0;36m2048\u001b[0m\u001b[0;34m)\u001b[0m\u001b[0;34m]\u001b[0m \u001b[0;31m#\u001b[0m\u001b[0;34m\u001b[0m\u001b[0m\n\u001b[0m\u001b[1;32m      3\u001b[0m \u001b[0mnew_df\u001b[0m\u001b[0;34m[\u001b[0m\u001b[0;34m'wo_variables'\u001b[0m\u001b[0;34m]\u001b[0m \u001b[0;34m=\u001b[0m \u001b[0mvariables\u001b[0m \u001b[0;34m+\u001b[0m \u001b[0;34m[\u001b[0m\u001b[0mnp\u001b[0m\u001b[0;34m.\u001b[0m\u001b[0mnan\u001b[0m \u001b[0;32mfor\u001b[0m \u001b[0mi\u001b[0m \u001b[0;32min\u001b[0m \u001b[0mrange\u001b[0m\u001b[0;34m(\u001b[0m\u001b[0;36m2048\u001b[0m\u001b[0;34m)\u001b[0m\u001b[0;34m]\u001b[0m\u001b[0;34m\u001b[0m\u001b[0m\n\u001b[1;32m      4\u001b[0m \u001b[0mnew_df\u001b[0m\u001b[0;34m[\u001b[0m\u001b[0;34m'wo_length'\u001b[0m\u001b[0;34m]\u001b[0m \u001b[0;34m=\u001b[0m \u001b[0;34m[\u001b[0m\u001b[0mlen\u001b[0m\u001b[0;34m(\u001b[0m\u001b[0mi\u001b[0m\u001b[0;34m)\u001b[0m \u001b[0;32mfor\u001b[0m \u001b[0mi\u001b[0m \u001b[0;32min\u001b[0m \u001b[0mvariables\u001b[0m\u001b[0;34m]\u001b[0m \u001b[0;34m+\u001b[0m \u001b[0;34m[\u001b[0m\u001b[0mnp\u001b[0m\u001b[0;34m.\u001b[0m\u001b[0mnan\u001b[0m \u001b[0;32mfor\u001b[0m \u001b[0mi\u001b[0m \u001b[0;32min\u001b[0m \u001b[0mrange\u001b[0m\u001b[0;34m(\u001b[0m\u001b[0;36m2048\u001b[0m\u001b[0;34m)\u001b[0m\u001b[0;34m]\u001b[0m\u001b[0;34m\u001b[0m\u001b[0m\n\u001b[1;32m      5\u001b[0m \u001b[0mnew_df\u001b[0m\u001b[0;34m.\u001b[0m\u001b[0mto_csv\u001b[0m\u001b[0;34m(\u001b[0m\u001b[0;34m'./images/models_images.csv'\u001b[0m\u001b[0;34m)\u001b[0m\u001b[0;34m\u001b[0m\u001b[0m\n",
      "\u001b[0;32m~/anaconda2/envs/python3/lib/python3.6/site-packages/pandas/core/frame.py\u001b[0m in \u001b[0;36m__setitem__\u001b[0;34m(self, key, value)\u001b[0m\n\u001b[1;32m   2517\u001b[0m         \u001b[0;32melse\u001b[0m\u001b[0;34m:\u001b[0m\u001b[0;34m\u001b[0m\u001b[0m\n\u001b[1;32m   2518\u001b[0m             \u001b[0;31m# set column\u001b[0m\u001b[0;34m\u001b[0m\u001b[0;34m\u001b[0m\u001b[0m\n\u001b[0;32m-> 2519\u001b[0;31m             \u001b[0mself\u001b[0m\u001b[0;34m.\u001b[0m\u001b[0m_set_item\u001b[0m\u001b[0;34m(\u001b[0m\u001b[0mkey\u001b[0m\u001b[0;34m,\u001b[0m \u001b[0mvalue\u001b[0m\u001b[0;34m)\u001b[0m\u001b[0;34m\u001b[0m\u001b[0m\n\u001b[0m\u001b[1;32m   2520\u001b[0m \u001b[0;34m\u001b[0m\u001b[0m\n\u001b[1;32m   2521\u001b[0m     \u001b[0;32mdef\u001b[0m \u001b[0m_setitem_slice\u001b[0m\u001b[0;34m(\u001b[0m\u001b[0mself\u001b[0m\u001b[0;34m,\u001b[0m \u001b[0mkey\u001b[0m\u001b[0;34m,\u001b[0m \u001b[0mvalue\u001b[0m\u001b[0;34m)\u001b[0m\u001b[0;34m:\u001b[0m\u001b[0;34m\u001b[0m\u001b[0m\n",
      "\u001b[0;32m~/anaconda2/envs/python3/lib/python3.6/site-packages/pandas/core/frame.py\u001b[0m in \u001b[0;36m_set_item\u001b[0;34m(self, key, value)\u001b[0m\n\u001b[1;32m   2583\u001b[0m \u001b[0;34m\u001b[0m\u001b[0m\n\u001b[1;32m   2584\u001b[0m         \u001b[0mself\u001b[0m\u001b[0;34m.\u001b[0m\u001b[0m_ensure_valid_index\u001b[0m\u001b[0;34m(\u001b[0m\u001b[0mvalue\u001b[0m\u001b[0;34m)\u001b[0m\u001b[0;34m\u001b[0m\u001b[0m\n\u001b[0;32m-> 2585\u001b[0;31m         \u001b[0mvalue\u001b[0m \u001b[0;34m=\u001b[0m \u001b[0mself\u001b[0m\u001b[0;34m.\u001b[0m\u001b[0m_sanitize_column\u001b[0m\u001b[0;34m(\u001b[0m\u001b[0mkey\u001b[0m\u001b[0;34m,\u001b[0m \u001b[0mvalue\u001b[0m\u001b[0;34m)\u001b[0m\u001b[0;34m\u001b[0m\u001b[0m\n\u001b[0m\u001b[1;32m   2586\u001b[0m         \u001b[0mNDFrame\u001b[0m\u001b[0;34m.\u001b[0m\u001b[0m_set_item\u001b[0m\u001b[0;34m(\u001b[0m\u001b[0mself\u001b[0m\u001b[0;34m,\u001b[0m \u001b[0mkey\u001b[0m\u001b[0;34m,\u001b[0m \u001b[0mvalue\u001b[0m\u001b[0;34m)\u001b[0m\u001b[0;34m\u001b[0m\u001b[0m\n\u001b[1;32m   2587\u001b[0m \u001b[0;34m\u001b[0m\u001b[0m\n",
      "\u001b[0;32m~/anaconda2/envs/python3/lib/python3.6/site-packages/pandas/core/frame.py\u001b[0m in \u001b[0;36m_sanitize_column\u001b[0;34m(self, key, value, broadcast)\u001b[0m\n\u001b[1;32m   2758\u001b[0m \u001b[0;34m\u001b[0m\u001b[0m\n\u001b[1;32m   2759\u001b[0m             \u001b[0;31m# turn me into an ndarray\u001b[0m\u001b[0;34m\u001b[0m\u001b[0;34m\u001b[0m\u001b[0m\n\u001b[0;32m-> 2760\u001b[0;31m             \u001b[0mvalue\u001b[0m \u001b[0;34m=\u001b[0m \u001b[0m_sanitize_index\u001b[0m\u001b[0;34m(\u001b[0m\u001b[0mvalue\u001b[0m\u001b[0;34m,\u001b[0m \u001b[0mself\u001b[0m\u001b[0;34m.\u001b[0m\u001b[0mindex\u001b[0m\u001b[0;34m,\u001b[0m \u001b[0mcopy\u001b[0m\u001b[0;34m=\u001b[0m\u001b[0;32mFalse\u001b[0m\u001b[0;34m)\u001b[0m\u001b[0;34m\u001b[0m\u001b[0m\n\u001b[0m\u001b[1;32m   2761\u001b[0m             \u001b[0;32mif\u001b[0m \u001b[0;32mnot\u001b[0m \u001b[0misinstance\u001b[0m\u001b[0;34m(\u001b[0m\u001b[0mvalue\u001b[0m\u001b[0;34m,\u001b[0m \u001b[0;34m(\u001b[0m\u001b[0mnp\u001b[0m\u001b[0;34m.\u001b[0m\u001b[0mndarray\u001b[0m\u001b[0;34m,\u001b[0m \u001b[0mIndex\u001b[0m\u001b[0;34m)\u001b[0m\u001b[0;34m)\u001b[0m\u001b[0;34m:\u001b[0m\u001b[0;34m\u001b[0m\u001b[0m\n\u001b[1;32m   2762\u001b[0m                 \u001b[0;32mif\u001b[0m \u001b[0misinstance\u001b[0m\u001b[0;34m(\u001b[0m\u001b[0mvalue\u001b[0m\u001b[0;34m,\u001b[0m \u001b[0mlist\u001b[0m\u001b[0;34m)\u001b[0m \u001b[0;32mand\u001b[0m \u001b[0mlen\u001b[0m\u001b[0;34m(\u001b[0m\u001b[0mvalue\u001b[0m\u001b[0;34m)\u001b[0m \u001b[0;34m>\u001b[0m \u001b[0;36m0\u001b[0m\u001b[0;34m:\u001b[0m\u001b[0;34m\u001b[0m\u001b[0m\n",
      "\u001b[0;32m~/anaconda2/envs/python3/lib/python3.6/site-packages/pandas/core/series.py\u001b[0m in \u001b[0;36m_sanitize_index\u001b[0;34m(data, index, copy)\u001b[0m\n\u001b[1;32m   3119\u001b[0m \u001b[0;34m\u001b[0m\u001b[0m\n\u001b[1;32m   3120\u001b[0m     \u001b[0;32mif\u001b[0m \u001b[0mlen\u001b[0m\u001b[0;34m(\u001b[0m\u001b[0mdata\u001b[0m\u001b[0;34m)\u001b[0m \u001b[0;34m!=\u001b[0m \u001b[0mlen\u001b[0m\u001b[0;34m(\u001b[0m\u001b[0mindex\u001b[0m\u001b[0;34m)\u001b[0m\u001b[0;34m:\u001b[0m\u001b[0;34m\u001b[0m\u001b[0m\n\u001b[0;32m-> 3121\u001b[0;31m         \u001b[0;32mraise\u001b[0m \u001b[0mValueError\u001b[0m\u001b[0;34m(\u001b[0m\u001b[0;34m'Length of values does not match length of '\u001b[0m \u001b[0;34m'index'\u001b[0m\u001b[0;34m)\u001b[0m\u001b[0;34m\u001b[0m\u001b[0m\n\u001b[0m\u001b[1;32m   3122\u001b[0m \u001b[0;34m\u001b[0m\u001b[0m\n\u001b[1;32m   3123\u001b[0m     \u001b[0;32mif\u001b[0m \u001b[0misinstance\u001b[0m\u001b[0;34m(\u001b[0m\u001b[0mdata\u001b[0m\u001b[0;34m,\u001b[0m \u001b[0mPeriodIndex\u001b[0m\u001b[0;34m)\u001b[0m\u001b[0;34m:\u001b[0m\u001b[0;34m\u001b[0m\u001b[0m\n",
      "\u001b[0;31mValueError\u001b[0m: Length of values does not match length of index"
     ]
    }
   ],
   "source": [
    "#saving to csv for plotly images\n",
    "\n",
    "#NOTE: this was for previous models sans google trends\n",
    "\n",
    "# new_df['wo_adj_r'] = adj_r + [np.nan for i in range(2048)] #\n",
    "# new_df['wo_variables'] = variables + [np.nan for i in range(2048)]\n",
    "# new_df['wo_length'] = [len(i) for i in variables] + [np.nan for i in range(2048)]\n",
    "# new_df.to_csv('./images/models_images.csv')"
   ]
  }
 ],
 "metadata": {
  "kernelspec": {
   "display_name": "Python 3",
   "language": "python",
   "name": "python3"
  },
  "language_info": {
   "codemirror_mode": {
    "name": "ipython",
    "version": 3
   },
   "file_extension": ".py",
   "mimetype": "text/x-python",
   "name": "python",
   "nbconvert_exporter": "python",
   "pygments_lexer": "ipython3",
   "version": "3.6.4"
  }
 },
 "nbformat": 4,
 "nbformat_minor": 2
}
