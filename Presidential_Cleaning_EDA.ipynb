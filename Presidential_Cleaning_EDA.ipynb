{
 "cells": [
  {
   "cell_type": "code",
   "execution_count": 1,
   "metadata": {
    "collapsed": true
   },
   "outputs": [],
   "source": [
    "import pandas as pd\n",
    "from nltk.corpus import inaugural\n",
    "import re"
   ]
  },
  {
   "cell_type": "code",
   "execution_count": 2,
   "metadata": {
    "collapsed": true
   },
   "outputs": [],
   "source": [
    "df = pd.read_csv('./PresidentialDataFrame.csv', index_col=0)"
   ]
  },
  {
   "cell_type": "code",
   "execution_count": 3,
   "metadata": {
    "collapsed": true
   },
   "outputs": [],
   "source": [
    "#not used\n",
    "df.drop('Wiki References', axis=1, inplace=True)"
   ]
  },
  {
   "cell_type": "code",
   "execution_count": 4,
   "metadata": {},
   "outputs": [
    {
     "data": {
      "text/html": [
       "<div>\n",
       "<style scoped>\n",
       "    .dataframe tbody tr th:only-of-type {\n",
       "        vertical-align: middle;\n",
       "    }\n",
       "\n",
       "    .dataframe tbody tr th {\n",
       "        vertical-align: top;\n",
       "    }\n",
       "\n",
       "    .dataframe thead th {\n",
       "        text-align: right;\n",
       "    }\n",
       "</style>\n",
       "<table border=\"1\" class=\"dataframe\">\n",
       "  <thead>\n",
       "    <tr style=\"text-align: right;\">\n",
       "      <th></th>\n",
       "      <th>First Year of Presidency</th>\n",
       "      <th>President Name</th>\n",
       "      <th>Wiki Content</th>\n",
       "      <th>Num Wiki References</th>\n",
       "      <th>Words on Page</th>\n",
       "    </tr>\n",
       "  </thead>\n",
       "  <tbody>\n",
       "    <tr>\n",
       "      <th>39</th>\n",
       "      <td>1989</td>\n",
       "      <td>George H. W. Bush</td>\n",
       "      <td>George Herbert Walker Bush (born June 12, 1924...</td>\n",
       "      <td>344</td>\n",
       "      <td>88238</td>\n",
       "    </tr>\n",
       "    <tr>\n",
       "      <th>40</th>\n",
       "      <td>1993</td>\n",
       "      <td>Bill Clinton</td>\n",
       "      <td>William Jefferson \"Bill\" Clinton (born William...</td>\n",
       "      <td>392</td>\n",
       "      <td>73712</td>\n",
       "    </tr>\n",
       "    <tr>\n",
       "      <th>41</th>\n",
       "      <td>2001</td>\n",
       "      <td>George W. Bush</td>\n",
       "      <td>George Walker Bush (born July 6, 1946) is an A...</td>\n",
       "      <td>787</td>\n",
       "      <td>88626</td>\n",
       "    </tr>\n",
       "    <tr>\n",
       "      <th>42</th>\n",
       "      <td>2009</td>\n",
       "      <td>Barack Hussein Obama</td>\n",
       "      <td>Barack Hussein Obama II ( ( listen); born Augu...</td>\n",
       "      <td>882</td>\n",
       "      <td>84498</td>\n",
       "    </tr>\n",
       "    <tr>\n",
       "      <th>43</th>\n",
       "      <td>2017</td>\n",
       "      <td>Donald Trump</td>\n",
       "      <td>Donald John Trump (born June 14, 1946) is the ...</td>\n",
       "      <td>726</td>\n",
       "      <td>88048</td>\n",
       "    </tr>\n",
       "  </tbody>\n",
       "</table>\n",
       "</div>"
      ],
      "text/plain": [
       "    First Year of Presidency        President Name  \\\n",
       "39                      1989     George H. W. Bush   \n",
       "40                      1993          Bill Clinton   \n",
       "41                      2001        George W. Bush   \n",
       "42                      2009  Barack Hussein Obama   \n",
       "43                      2017          Donald Trump   \n",
       "\n",
       "                                         Wiki Content  Num Wiki References  \\\n",
       "39  George Herbert Walker Bush (born June 12, 1924...                  344   \n",
       "40  William Jefferson \"Bill\" Clinton (born William...                  392   \n",
       "41  George Walker Bush (born July 6, 1946) is an A...                  787   \n",
       "42  Barack Hussein Obama II ( ( listen); born Augu...                  882   \n",
       "43  Donald John Trump (born June 14, 1946) is the ...                  726   \n",
       "\n",
       "    Words on Page  \n",
       "39          88238  \n",
       "40          73712  \n",
       "41          88626  \n",
       "42          84498  \n",
       "43          88048  "
      ]
     },
     "execution_count": 4,
     "metadata": {},
     "output_type": "execute_result"
    }
   ],
   "source": [
    "df.tail()"
   ]
  },
  {
   "cell_type": "code",
   "execution_count": 5,
   "metadata": {
    "collapsed": true
   },
   "outputs": [],
   "source": [
    "#accessing the inaugural addresses of all Presidents\n",
    "addresses = {}\n",
    "for file in inaugural.fileids():\n",
    "    if file in ['1825-Adams.txt', '1933-Roosevelt.txt', '1937-Roosevelt.txt', '1941-Roosevelt.txt', '1945-Roosevelt.txt',\n",
    "               '2001-Bush.txt', '2005-Bush.txt',  '1889-Harrison.txt', '1965-Johnson.txt']:\n",
    "        name = file[5:-4] + '2'\n",
    "        if name in addresses:\n",
    "            addresses[name] += list(inaugural.words(file))\n",
    "        else:\n",
    "            addresses[name] = list(inaugural.words(file))\n",
    "    else:\n",
    "        name = file[5:-4]\n",
    "        if name in addresses:\n",
    "            addresses[name] += list(inaugural.words(file))\n",
    "        else:\n",
    "            addresses[name] = list(inaugural.words(file))"
   ]
  },
  {
   "cell_type": "code",
   "execution_count": 6,
   "metadata": {
    "collapsed": true
   },
   "outputs": [],
   "source": [
    "#Missing Trump's first and Obama's second- adding them here\n",
    "obama = open('./obama2.txt').read()\n",
    "obama = obama.split()\n",
    "addresses['Obama'].extend(obama)\n",
    "\n",
    "trump = open('./trump_in.txt').read()\n",
    "trump = trump.split()\n",
    "addresses['Trump'] = trump"
   ]
  },
  {
   "cell_type": "code",
   "execution_count": 7,
   "metadata": {
    "collapsed": true
   },
   "outputs": [],
   "source": [
    "#getting last names to merge on\n",
    "last_names = [val.split()[-1] for val in df['President Name']]\n",
    "cleaned = []\n",
    "for val in last_names:\n",
    "    if val not in cleaned:\n",
    "        cleaned.append(val)\n",
    "    else:\n",
    "        val = val + '2'\n",
    "        cleaned.append(val)"
   ]
  },
  {
   "cell_type": "code",
   "execution_count": 8,
   "metadata": {
    "collapsed": true
   },
   "outputs": [],
   "source": [
    "df['for_merge'] = cleaned"
   ]
  },
  {
   "cell_type": "code",
   "execution_count": 9,
   "metadata": {
    "collapsed": true
   },
   "outputs": [],
   "source": [
    "#making a df to merge\n",
    "address = pd.DataFrame()\n",
    "address['Inaugural'] = list(addresses.values())\n",
    "address['name'] = list(addresses.keys())"
   ]
  },
  {
   "cell_type": "code",
   "execution_count": 10,
   "metadata": {},
   "outputs": [
    {
     "data": {
      "text/plain": [
       "{'Arthur', 'Buren', 'Fillmore', 'Ford', 'Johnson', 'Tyler'}"
      ]
     },
     "execution_count": 10,
     "metadata": {},
     "output_type": "execute_result"
    }
   ],
   "source": [
    "#Presidents that never delivered an inaugural address\n",
    "set(df['for_merge']) - set(address['name'])"
   ]
  },
  {
   "cell_type": "code",
   "execution_count": 11,
   "metadata": {
    "collapsed": true
   },
   "outputs": [],
   "source": [
    "df = pd.merge(df, address, how='left', left_on='for_merge', right_on='name')"
   ]
  },
  {
   "cell_type": "code",
   "execution_count": 12,
   "metadata": {
    "collapsed": true
   },
   "outputs": [],
   "source": [
    "#dropping redundant name columns\n",
    "df.drop(['name', 'for_merge'], axis=1, inplace=True)"
   ]
  }
 ],
 "metadata": {
  "kernelspec": {
   "display_name": "Python 3",
   "language": "python",
   "name": "python3"
  },
  "language_info": {
   "codemirror_mode": {
    "name": "ipython",
    "version": 3
   },
   "file_extension": ".py",
   "mimetype": "text/x-python",
   "name": "python",
   "nbconvert_exporter": "python",
   "pygments_lexer": "ipython3",
   "version": "3.6.4"
  }
 },
 "nbformat": 4,
 "nbformat_minor": 2
}
